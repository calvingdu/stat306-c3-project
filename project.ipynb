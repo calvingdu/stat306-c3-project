{
 "cells": [
  {
   "cell_type": "code",
   "execution_count": 18,
   "metadata": {
    "vscode": {
     "languageId": "r"
    }
   },
   "outputs": [
    {
     "name": "stderr",
     "output_type": "stream",
     "text": [
      "\n",
      "Attaching package: 'janitor'\n",
      "\n",
      "\n",
      "The following objects are masked from 'package:stats':\n",
      "\n",
      "    chisq.test, fisher.test\n",
      "\n",
      "\n"
     ]
    }
   ],
   "source": [
    "library(tidyverse)\n",
    "library(janitor)"
   ]
  },
  {
   "cell_type": "code",
   "execution_count": 10,
   "metadata": {
    "vscode": {
     "languageId": "r"
    }
   },
   "outputs": [
    {
     "name": "stderr",
     "output_type": "stream",
     "text": [
      "\u001b[1mRows: \u001b[22m\u001b[34m414\u001b[39m \u001b[1mColumns: \u001b[22m\u001b[34m8\u001b[39m\n",
      "\u001b[36m--\u001b[39m \u001b[1mColumn specification\u001b[22m \u001b[36m--------------------------------------------------------\u001b[39m\n",
      "\u001b[1mDelimiter:\u001b[22m \",\"\n",
      "\u001b[32mdbl\u001b[39m (8): No, X1 transaction date, X2 house age, X3 distance to the nearest M...\n",
      "\n",
      "\u001b[36mi\u001b[39m Use `spec()` to retrieve the full column specification for this data.\n",
      "\u001b[36mi\u001b[39m Specify the column types or set `show_col_types = FALSE` to quiet this message.\n"
     ]
    },
    {
     "data": {
      "text/html": [
       "<table class=\"dataframe\">\n",
       "<caption>A tibble: 6 × 8</caption>\n",
       "<thead>\n",
       "\t<tr><th scope=col>No</th><th scope=col>X1 transaction date</th><th scope=col>X2 house age</th><th scope=col>X3 distance to the nearest MRT station</th><th scope=col>X4 number of convenience stores</th><th scope=col>X5 latitude</th><th scope=col>X6 longitude</th><th scope=col>Y house price of unit area</th></tr>\n",
       "\t<tr><th scope=col>&lt;dbl&gt;</th><th scope=col>&lt;dbl&gt;</th><th scope=col>&lt;dbl&gt;</th><th scope=col>&lt;dbl&gt;</th><th scope=col>&lt;dbl&gt;</th><th scope=col>&lt;dbl&gt;</th><th scope=col>&lt;dbl&gt;</th><th scope=col>&lt;dbl&gt;</th></tr>\n",
       "</thead>\n",
       "<tbody>\n",
       "\t<tr><td>1</td><td>2012.917</td><td>32.0</td><td>  84.87882</td><td>10</td><td>24.98298</td><td>121.5402</td><td>37.9</td></tr>\n",
       "\t<tr><td>2</td><td>2012.917</td><td>19.5</td><td> 306.59470</td><td> 9</td><td>24.98034</td><td>121.5395</td><td>42.2</td></tr>\n",
       "\t<tr><td>3</td><td>2013.583</td><td>13.3</td><td> 561.98450</td><td> 5</td><td>24.98746</td><td>121.5439</td><td>47.3</td></tr>\n",
       "\t<tr><td>4</td><td>2013.500</td><td>13.3</td><td> 561.98450</td><td> 5</td><td>24.98746</td><td>121.5439</td><td>54.8</td></tr>\n",
       "\t<tr><td>5</td><td>2012.833</td><td> 5.0</td><td> 390.56840</td><td> 5</td><td>24.97937</td><td>121.5425</td><td>43.1</td></tr>\n",
       "\t<tr><td>6</td><td>2012.667</td><td> 7.1</td><td>2175.03000</td><td> 3</td><td>24.96305</td><td>121.5125</td><td>32.1</td></tr>\n",
       "</tbody>\n",
       "</table>\n"
      ],
      "text/latex": [
       "A tibble: 6 × 8\n",
       "\\begin{tabular}{llllllll}\n",
       " No & X1 transaction date & X2 house age & X3 distance to the nearest MRT station & X4 number of convenience stores & X5 latitude & X6 longitude & Y house price of unit area\\\\\n",
       " <dbl> & <dbl> & <dbl> & <dbl> & <dbl> & <dbl> & <dbl> & <dbl>\\\\\n",
       "\\hline\n",
       "\t 1 & 2012.917 & 32.0 &   84.87882 & 10 & 24.98298 & 121.5402 & 37.9\\\\\n",
       "\t 2 & 2012.917 & 19.5 &  306.59470 &  9 & 24.98034 & 121.5395 & 42.2\\\\\n",
       "\t 3 & 2013.583 & 13.3 &  561.98450 &  5 & 24.98746 & 121.5439 & 47.3\\\\\n",
       "\t 4 & 2013.500 & 13.3 &  561.98450 &  5 & 24.98746 & 121.5439 & 54.8\\\\\n",
       "\t 5 & 2012.833 &  5.0 &  390.56840 &  5 & 24.97937 & 121.5425 & 43.1\\\\\n",
       "\t 6 & 2012.667 &  7.1 & 2175.03000 &  3 & 24.96305 & 121.5125 & 32.1\\\\\n",
       "\\end{tabular}\n"
      ],
      "text/markdown": [
       "\n",
       "A tibble: 6 × 8\n",
       "\n",
       "| No &lt;dbl&gt; | X1 transaction date &lt;dbl&gt; | X2 house age &lt;dbl&gt; | X3 distance to the nearest MRT station &lt;dbl&gt; | X4 number of convenience stores &lt;dbl&gt; | X5 latitude &lt;dbl&gt; | X6 longitude &lt;dbl&gt; | Y house price of unit area &lt;dbl&gt; |\n",
       "|---|---|---|---|---|---|---|---|\n",
       "| 1 | 2012.917 | 32.0 |   84.87882 | 10 | 24.98298 | 121.5402 | 37.9 |\n",
       "| 2 | 2012.917 | 19.5 |  306.59470 |  9 | 24.98034 | 121.5395 | 42.2 |\n",
       "| 3 | 2013.583 | 13.3 |  561.98450 |  5 | 24.98746 | 121.5439 | 47.3 |\n",
       "| 4 | 2013.500 | 13.3 |  561.98450 |  5 | 24.98746 | 121.5439 | 54.8 |\n",
       "| 5 | 2012.833 |  5.0 |  390.56840 |  5 | 24.97937 | 121.5425 | 43.1 |\n",
       "| 6 | 2012.667 |  7.1 | 2175.03000 |  3 | 24.96305 | 121.5125 | 32.1 |\n",
       "\n"
      ],
      "text/plain": [
       "  No X1 transaction date X2 house age X3 distance to the nearest MRT station\n",
       "1 1  2012.917            32.0           84.87882                            \n",
       "2 2  2012.917            19.5          306.59470                            \n",
       "3 3  2013.583            13.3          561.98450                            \n",
       "4 4  2013.500            13.3          561.98450                            \n",
       "5 5  2012.833             5.0          390.56840                            \n",
       "6 6  2012.667             7.1         2175.03000                            \n",
       "  X4 number of convenience stores X5 latitude X6 longitude\n",
       "1 10                              24.98298    121.5402    \n",
       "2  9                              24.98034    121.5395    \n",
       "3  5                              24.98746    121.5439    \n",
       "4  5                              24.98746    121.5439    \n",
       "5  5                              24.97937    121.5425    \n",
       "6  3                              24.96305    121.5125    \n",
       "  Y house price of unit area\n",
       "1 37.9                      \n",
       "2 42.2                      \n",
       "3 47.3                      \n",
       "4 54.8                      \n",
       "5 43.1                      \n",
       "6 32.1                      "
      ]
     },
     "metadata": {},
     "output_type": "display_data"
    }
   ],
   "source": [
    "df <- read_csv('https://raw.githubusercontent.com/calvingdu/stat306-c3-project/master/data/real_estate.csv')\n",
    "head(df)"
   ]
  },
  {
   "cell_type": "code",
   "execution_count": 21,
   "metadata": {
    "vscode": {
     "languageId": "r"
    }
   },
   "outputs": [
    {
     "data": {
      "text/html": [
       "<table class=\"dataframe\">\n",
       "<caption>A tibble: 6 × 8</caption>\n",
       "<thead>\n",
       "\t<tr><th scope=col>no</th><th scope=col>x1_transaction_date</th><th scope=col>x2_house_age</th><th scope=col>x3_distance_to_the_nearest_mrt_station</th><th scope=col>x4_number_of_convenience_stores</th><th scope=col>x5_latitude</th><th scope=col>x6_longitude</th><th scope=col>y_house_price_of_unit_area</th></tr>\n",
       "\t<tr><th scope=col>&lt;dbl&gt;</th><th scope=col>&lt;dbl&gt;</th><th scope=col>&lt;dbl&gt;</th><th scope=col>&lt;dbl&gt;</th><th scope=col>&lt;dbl&gt;</th><th scope=col>&lt;dbl&gt;</th><th scope=col>&lt;dbl&gt;</th><th scope=col>&lt;dbl&gt;</th></tr>\n",
       "</thead>\n",
       "<tbody>\n",
       "\t<tr><td>1</td><td>2012.917</td><td>32.0</td><td>  84.87882</td><td>10</td><td>24.98298</td><td>121.5402</td><td>37.9</td></tr>\n",
       "\t<tr><td>2</td><td>2012.917</td><td>19.5</td><td> 306.59470</td><td> 9</td><td>24.98034</td><td>121.5395</td><td>42.2</td></tr>\n",
       "\t<tr><td>3</td><td>2013.583</td><td>13.3</td><td> 561.98450</td><td> 5</td><td>24.98746</td><td>121.5439</td><td>47.3</td></tr>\n",
       "\t<tr><td>4</td><td>2013.500</td><td>13.3</td><td> 561.98450</td><td> 5</td><td>24.98746</td><td>121.5439</td><td>54.8</td></tr>\n",
       "\t<tr><td>5</td><td>2012.833</td><td> 5.0</td><td> 390.56840</td><td> 5</td><td>24.97937</td><td>121.5425</td><td>43.1</td></tr>\n",
       "\t<tr><td>6</td><td>2012.667</td><td> 7.1</td><td>2175.03000</td><td> 3</td><td>24.96305</td><td>121.5125</td><td>32.1</td></tr>\n",
       "</tbody>\n",
       "</table>\n"
      ],
      "text/latex": [
       "A tibble: 6 × 8\n",
       "\\begin{tabular}{llllllll}\n",
       " no & x1\\_transaction\\_date & x2\\_house\\_age & x3\\_distance\\_to\\_the\\_nearest\\_mrt\\_station & x4\\_number\\_of\\_convenience\\_stores & x5\\_latitude & x6\\_longitude & y\\_house\\_price\\_of\\_unit\\_area\\\\\n",
       " <dbl> & <dbl> & <dbl> & <dbl> & <dbl> & <dbl> & <dbl> & <dbl>\\\\\n",
       "\\hline\n",
       "\t 1 & 2012.917 & 32.0 &   84.87882 & 10 & 24.98298 & 121.5402 & 37.9\\\\\n",
       "\t 2 & 2012.917 & 19.5 &  306.59470 &  9 & 24.98034 & 121.5395 & 42.2\\\\\n",
       "\t 3 & 2013.583 & 13.3 &  561.98450 &  5 & 24.98746 & 121.5439 & 47.3\\\\\n",
       "\t 4 & 2013.500 & 13.3 &  561.98450 &  5 & 24.98746 & 121.5439 & 54.8\\\\\n",
       "\t 5 & 2012.833 &  5.0 &  390.56840 &  5 & 24.97937 & 121.5425 & 43.1\\\\\n",
       "\t 6 & 2012.667 &  7.1 & 2175.03000 &  3 & 24.96305 & 121.5125 & 32.1\\\\\n",
       "\\end{tabular}\n"
      ],
      "text/markdown": [
       "\n",
       "A tibble: 6 × 8\n",
       "\n",
       "| no &lt;dbl&gt; | x1_transaction_date &lt;dbl&gt; | x2_house_age &lt;dbl&gt; | x3_distance_to_the_nearest_mrt_station &lt;dbl&gt; | x4_number_of_convenience_stores &lt;dbl&gt; | x5_latitude &lt;dbl&gt; | x6_longitude &lt;dbl&gt; | y_house_price_of_unit_area &lt;dbl&gt; |\n",
       "|---|---|---|---|---|---|---|---|\n",
       "| 1 | 2012.917 | 32.0 |   84.87882 | 10 | 24.98298 | 121.5402 | 37.9 |\n",
       "| 2 | 2012.917 | 19.5 |  306.59470 |  9 | 24.98034 | 121.5395 | 42.2 |\n",
       "| 3 | 2013.583 | 13.3 |  561.98450 |  5 | 24.98746 | 121.5439 | 47.3 |\n",
       "| 4 | 2013.500 | 13.3 |  561.98450 |  5 | 24.98746 | 121.5439 | 54.8 |\n",
       "| 5 | 2012.833 |  5.0 |  390.56840 |  5 | 24.97937 | 121.5425 | 43.1 |\n",
       "| 6 | 2012.667 |  7.1 | 2175.03000 |  3 | 24.96305 | 121.5125 | 32.1 |\n",
       "\n"
      ],
      "text/plain": [
       "  no x1_transaction_date x2_house_age x3_distance_to_the_nearest_mrt_station\n",
       "1 1  2012.917            32.0           84.87882                            \n",
       "2 2  2012.917            19.5          306.59470                            \n",
       "3 3  2013.583            13.3          561.98450                            \n",
       "4 4  2013.500            13.3          561.98450                            \n",
       "5 5  2012.833             5.0          390.56840                            \n",
       "6 6  2012.667             7.1         2175.03000                            \n",
       "  x4_number_of_convenience_stores x5_latitude x6_longitude\n",
       "1 10                              24.98298    121.5402    \n",
       "2  9                              24.98034    121.5395    \n",
       "3  5                              24.98746    121.5439    \n",
       "4  5                              24.98746    121.5439    \n",
       "5  5                              24.97937    121.5425    \n",
       "6  3                              24.96305    121.5125    \n",
       "  y_house_price_of_unit_area\n",
       "1 37.9                      \n",
       "2 42.2                      \n",
       "3 47.3                      \n",
       "4 54.8                      \n",
       "5 43.1                      \n",
       "6 32.1                      "
      ]
     },
     "metadata": {},
     "output_type": "display_data"
    }
   ],
   "source": [
    "df <- clean_names(df)\n",
    "head(df)"
   ]
  }
 ],
 "metadata": {
  "kernelspec": {
   "display_name": "R",
   "language": "R",
   "name": "ir"
  },
  "language_info": {
   "codemirror_mode": "r",
   "file_extension": ".r",
   "mimetype": "text/x-r-source",
   "name": "R",
   "pygments_lexer": "r",
   "version": "4.3.1"
  }
 },
 "nbformat": 4,
 "nbformat_minor": 2
}
