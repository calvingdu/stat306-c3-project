{
 "cells": [
  {
   "cell_type": "code",
   "execution_count": 255,
   "metadata": {
    "vscode": {
     "languageId": "r"
    }
   },
   "outputs": [],
   "source": [
    "library(tidyverse)\n",
    "library(tidymodels)\n",
    "library(janitor)\n",
    "library(leaps)"
   ]
  },
  {
   "cell_type": "markdown",
   "metadata": {},
   "source": [
    "# STAT 306 Group C3 Project"
   ]
  },
  {
   "cell_type": "markdown",
   "metadata": {},
   "source": [
    "# The Data & Goal Analysis"
   ]
  },
  {
   "cell_type": "markdown",
   "metadata": {},
   "source": [
    "The data being explored is the [Real Estate Valuation Data Set](https://archive.ics.uci.edu/dataset/477/real+estate+valuation+data+set) that explores real-estate prices in Sindian Dist., New Taipei City, Taiwan. This data consists of n=414 observations that contain various numerical and time-related features. This data was obtained through UC Irvine Machine Learning Repository."
   ]
  },
  {
   "cell_type": "markdown",
   "metadata": {},
   "source": [
    "The variables we have are: \n",
    "- X1 =  The transaction date in numerical units. For instance, 2013.250 equals March 2013, where the month is depicted as a fraction of the year (3/12 = 0.250) \n",
    "- X2 = The house age in years\n",
    "- X3 = Distance to the nearest MRT station in metres (MRTs are metro transit systems) \n",
    "- X4 = Number of convenience stores in the living circle on foot by count (integer)\n",
    "- X5 = Latitude in degree\n",
    "- X6 = Longitude in degree"
   ]
  },
  {
   "cell_type": "markdown",
   "metadata": {},
   "source": [
    "**The primary objective of this analysis is to determine how the real estate price is influenced by various factors such as house age, proximity to transportation (MRT), convenience store availability, and geographical location.**"
   ]
  },
  {
   "cell_type": "markdown",
   "metadata": {},
   "source": [
    "# Reading In the Data"
   ]
  },
  {
   "cell_type": "code",
   "execution_count": 256,
   "metadata": {
    "vscode": {
     "languageId": "r"
    }
   },
   "outputs": [
    {
     "data": {
      "text/html": [
       "<table class=\"dataframe\">\n",
       "<caption>A tibble: 6 × 8</caption>\n",
       "<thead>\n",
       "\t<tr><th scope=col>no</th><th scope=col>x1_transaction_date</th><th scope=col>x2_house_age</th><th scope=col>x3_distance_to_the_nearest_mrt_station</th><th scope=col>x4_number_of_convenience_stores</th><th scope=col>x5_latitude</th><th scope=col>x6_longitude</th><th scope=col>y_house_price_of_unit_area</th></tr>\n",
       "\t<tr><th scope=col>&lt;dbl&gt;</th><th scope=col>&lt;dbl&gt;</th><th scope=col>&lt;dbl&gt;</th><th scope=col>&lt;dbl&gt;</th><th scope=col>&lt;dbl&gt;</th><th scope=col>&lt;dbl&gt;</th><th scope=col>&lt;dbl&gt;</th><th scope=col>&lt;dbl&gt;</th></tr>\n",
       "</thead>\n",
       "<tbody>\n",
       "\t<tr><td>1</td><td>2012.917</td><td>32.0</td><td>  84.87882</td><td>10</td><td>24.98298</td><td>121.5402</td><td>37.9</td></tr>\n",
       "\t<tr><td>2</td><td>2012.917</td><td>19.5</td><td> 306.59470</td><td> 9</td><td>24.98034</td><td>121.5395</td><td>42.2</td></tr>\n",
       "\t<tr><td>3</td><td>2013.583</td><td>13.3</td><td> 561.98450</td><td> 5</td><td>24.98746</td><td>121.5439</td><td>47.3</td></tr>\n",
       "\t<tr><td>4</td><td>2013.500</td><td>13.3</td><td> 561.98450</td><td> 5</td><td>24.98746</td><td>121.5439</td><td>54.8</td></tr>\n",
       "\t<tr><td>5</td><td>2012.833</td><td> 5.0</td><td> 390.56840</td><td> 5</td><td>24.97937</td><td>121.5425</td><td>43.1</td></tr>\n",
       "\t<tr><td>6</td><td>2012.667</td><td> 7.1</td><td>2175.03000</td><td> 3</td><td>24.96305</td><td>121.5125</td><td>32.1</td></tr>\n",
       "</tbody>\n",
       "</table>\n"
      ],
      "text/latex": [
       "A tibble: 6 × 8\n",
       "\\begin{tabular}{llllllll}\n",
       " no & x1\\_transaction\\_date & x2\\_house\\_age & x3\\_distance\\_to\\_the\\_nearest\\_mrt\\_station & x4\\_number\\_of\\_convenience\\_stores & x5\\_latitude & x6\\_longitude & y\\_house\\_price\\_of\\_unit\\_area\\\\\n",
       " <dbl> & <dbl> & <dbl> & <dbl> & <dbl> & <dbl> & <dbl> & <dbl>\\\\\n",
       "\\hline\n",
       "\t 1 & 2012.917 & 32.0 &   84.87882 & 10 & 24.98298 & 121.5402 & 37.9\\\\\n",
       "\t 2 & 2012.917 & 19.5 &  306.59470 &  9 & 24.98034 & 121.5395 & 42.2\\\\\n",
       "\t 3 & 2013.583 & 13.3 &  561.98450 &  5 & 24.98746 & 121.5439 & 47.3\\\\\n",
       "\t 4 & 2013.500 & 13.3 &  561.98450 &  5 & 24.98746 & 121.5439 & 54.8\\\\\n",
       "\t 5 & 2012.833 &  5.0 &  390.56840 &  5 & 24.97937 & 121.5425 & 43.1\\\\\n",
       "\t 6 & 2012.667 &  7.1 & 2175.03000 &  3 & 24.96305 & 121.5125 & 32.1\\\\\n",
       "\\end{tabular}\n"
      ],
      "text/markdown": [
       "\n",
       "A tibble: 6 × 8\n",
       "\n",
       "| no &lt;dbl&gt; | x1_transaction_date &lt;dbl&gt; | x2_house_age &lt;dbl&gt; | x3_distance_to_the_nearest_mrt_station &lt;dbl&gt; | x4_number_of_convenience_stores &lt;dbl&gt; | x5_latitude &lt;dbl&gt; | x6_longitude &lt;dbl&gt; | y_house_price_of_unit_area &lt;dbl&gt; |\n",
       "|---|---|---|---|---|---|---|---|\n",
       "| 1 | 2012.917 | 32.0 |   84.87882 | 10 | 24.98298 | 121.5402 | 37.9 |\n",
       "| 2 | 2012.917 | 19.5 |  306.59470 |  9 | 24.98034 | 121.5395 | 42.2 |\n",
       "| 3 | 2013.583 | 13.3 |  561.98450 |  5 | 24.98746 | 121.5439 | 47.3 |\n",
       "| 4 | 2013.500 | 13.3 |  561.98450 |  5 | 24.98746 | 121.5439 | 54.8 |\n",
       "| 5 | 2012.833 |  5.0 |  390.56840 |  5 | 24.97937 | 121.5425 | 43.1 |\n",
       "| 6 | 2012.667 |  7.1 | 2175.03000 |  3 | 24.96305 | 121.5125 | 32.1 |\n",
       "\n"
      ],
      "text/plain": [
       "  no x1_transaction_date x2_house_age x3_distance_to_the_nearest_mrt_station\n",
       "1 1  2012.917            32.0           84.87882                            \n",
       "2 2  2012.917            19.5          306.59470                            \n",
       "3 3  2013.583            13.3          561.98450                            \n",
       "4 4  2013.500            13.3          561.98450                            \n",
       "5 5  2012.833             5.0          390.56840                            \n",
       "6 6  2012.667             7.1         2175.03000                            \n",
       "  x4_number_of_convenience_stores x5_latitude x6_longitude\n",
       "1 10                              24.98298    121.5402    \n",
       "2  9                              24.98034    121.5395    \n",
       "3  5                              24.98746    121.5439    \n",
       "4  5                              24.98746    121.5439    \n",
       "5  5                              24.97937    121.5425    \n",
       "6  3                              24.96305    121.5125    \n",
       "  y_house_price_of_unit_area\n",
       "1 37.9                      \n",
       "2 42.2                      \n",
       "3 47.3                      \n",
       "4 54.8                      \n",
       "5 43.1                      \n",
       "6 32.1                      "
      ]
     },
     "metadata": {},
     "output_type": "display_data"
    }
   ],
   "source": [
    "real_estate_data <- clean_names(real_estate_data)\n",
    "head(real_estate_data)\n",
    "\n",
    "df_split <- initial_split(real_estate_data, prop = 0.8, strata = y_house_price_of_unit_area)\n",
    "df_train <- training(df_split)\n",
    "df_test <- testing(df_split)"
   ]
  },
  {
   "cell_type": "markdown",
   "metadata": {},
   "source": [
    "# Feature Engineering & Model Development"
   ]
  },
  {
   "cell_type": "code",
   "execution_count": 257,
   "metadata": {
    "vscode": {
     "languageId": "r"
    }
   },
   "outputs": [],
   "source": [
    "# Time based features\n",
    "df_train <- df_train %>%\n",
    "  mutate(year = as.integer(x1_transaction_date)) %>%\n",
    "  mutate(month = as.integer(round((x1_transaction_date - year) * 12), 1))\n",
    "\n",
    "# Create location-based features\n",
    "df_train$neighborhood <- kmeans(df_train[, c('x5_latitude', 'x6_longitude')], centers = 5)$cluster \n",
    "\n",
    "# Proximity-based features\n",
    "df_train$distance_to_mrt_category <- cut(df_train$x3_distance_to_the_nearest_mrt_station,\n",
    "                            breaks = c(-Inf, 250, 500, 750, 1000, Inf),\n",
    "                            labels = c(\"under_250m\", \"250m_500m\", \"500m_750m\", \"750m_1000m\", \"over_1000m\"))\n",
    "\n",
    "model_df <- select(df_train, -c(no))"
   ]
  },
  {
   "cell_type": "markdown",
   "metadata": {},
   "source": [
    "## Model Selection"
   ]
  },
  {
   "cell_type": "code",
   "execution_count": 258,
   "metadata": {
    "vscode": {
     "languageId": "r"
    }
   },
   "outputs": [
    {
     "data": {
      "text/html": [
       "<table class=\"dataframe\">\n",
       "<caption>A data.frame: 13 × 18</caption>\n",
       "<thead>\n",
       "\t<tr><th></th><th scope=col>X.Intercept.</th><th scope=col>x1_transaction_date</th><th scope=col>x2_house_age</th><th scope=col>x3_distance_to_the_nearest_mrt_station</th><th scope=col>x4_number_of_convenience_stores</th><th scope=col>x5_latitude</th><th scope=col>x6_longitude</th><th scope=col>year</th><th scope=col>month</th><th scope=col>neighborhood</th><th scope=col>distance_to_mrt_category250m_500m</th><th scope=col>distance_to_mrt_category500m_750m</th><th scope=col>distance_to_mrt_category750m_1000m</th><th scope=col>distance_to_mrt_categoryover_1000m</th><th scope=col>model</th><th scope=col>RSS</th><th scope=col>AdjR2</th><th scope=col>BIC</th></tr>\n",
       "\t<tr><th></th><th scope=col>&lt;lgl&gt;</th><th scope=col>&lt;lgl&gt;</th><th scope=col>&lt;lgl&gt;</th><th scope=col>&lt;lgl&gt;</th><th scope=col>&lt;lgl&gt;</th><th scope=col>&lt;lgl&gt;</th><th scope=col>&lt;lgl&gt;</th><th scope=col>&lt;lgl&gt;</th><th scope=col>&lt;lgl&gt;</th><th scope=col>&lt;lgl&gt;</th><th scope=col>&lt;lgl&gt;</th><th scope=col>&lt;lgl&gt;</th><th scope=col>&lt;lgl&gt;</th><th scope=col>&lt;lgl&gt;</th><th scope=col>&lt;chr&gt;</th><th scope=col>&lt;dbl&gt;</th><th scope=col>&lt;dbl&gt;</th><th scope=col>&lt;dbl&gt;</th></tr>\n",
       "</thead>\n",
       "<tbody>\n",
       "\t<tr><th scope=row>1</th><td>TRUE</td><td>FALSE</td><td>FALSE</td><td>FALSE</td><td>FALSE</td><td>FALSE</td><td>FALSE</td><td>FALSE</td><td>FALSE</td><td>FALSE</td><td>FALSE</td><td>FALSE</td><td>FALSE</td><td>TRUE</td><td>1 </td><td>28738.28</td><td>0.4860359</td><td>-208.3955</td></tr>\n",
       "\t<tr><th scope=row>2</th><td>TRUE</td><td>FALSE</td><td> TRUE</td><td>FALSE</td><td>FALSE</td><td>FALSE</td><td>FALSE</td><td>FALSE</td><td>FALSE</td><td>FALSE</td><td>FALSE</td><td>FALSE</td><td>FALSE</td><td>TRUE</td><td>2 </td><td>25226.19</td><td>0.5474634</td><td>-245.4838</td></tr>\n",
       "\t<tr><th scope=row>3</th><td>TRUE</td><td>FALSE</td><td> TRUE</td><td>FALSE</td><td> TRUE</td><td>FALSE</td><td>FALSE</td><td>FALSE</td><td>FALSE</td><td>FALSE</td><td>FALSE</td><td>FALSE</td><td>FALSE</td><td>TRUE</td><td>3 </td><td>22119.45</td><td>0.6019748</td><td>-282.9267</td></tr>\n",
       "\t<tr><th scope=row>4</th><td>TRUE</td><td>FALSE</td><td> TRUE</td><td>FALSE</td><td> TRUE</td><td> TRUE</td><td>FALSE</td><td>FALSE</td><td>FALSE</td><td>FALSE</td><td>FALSE</td><td>FALSE</td><td>FALSE</td><td>TRUE</td><td>4 </td><td>20647.13</td><td>0.6273215</td><td>-299.7924</td></tr>\n",
       "\t<tr><th scope=row>5</th><td>TRUE</td><td>FALSE</td><td> TRUE</td><td>FALSE</td><td> TRUE</td><td> TRUE</td><td>FALSE</td><td>FALSE</td><td>FALSE</td><td>FALSE</td><td>FALSE</td><td>FALSE</td><td> TRUE</td><td>TRUE</td><td>5 </td><td>19862.00</td><td>0.6403831</td><td>-306.7510</td></tr>\n",
       "\t<tr><th scope=row>6</th><td>TRUE</td><td> TRUE</td><td> TRUE</td><td>FALSE</td><td> TRUE</td><td> TRUE</td><td>FALSE</td><td>FALSE</td><td>FALSE</td><td>FALSE</td><td>FALSE</td><td>FALSE</td><td> TRUE</td><td>TRUE</td><td>6 </td><td>19178.16</td><td>0.6516861</td><td>-312.4818</td></tr>\n",
       "\t<tr><th scope=row>7</th><td>TRUE</td><td> TRUE</td><td> TRUE</td><td>FALSE</td><td> TRUE</td><td> TRUE</td><td>FALSE</td><td>FALSE</td><td>FALSE</td><td>FALSE</td><td> TRUE</td><td>FALSE</td><td> TRUE</td><td>TRUE</td><td>7 </td><td>18835.99</td><td>0.6568349</td><td>-312.6087</td></tr>\n",
       "\t<tr><th scope=row>8</th><td>TRUE</td><td> TRUE</td><td> TRUE</td><td>FALSE</td><td> TRUE</td><td> TRUE</td><td>FALSE</td><td>FALSE</td><td>FALSE</td><td>FALSE</td><td> TRUE</td><td> TRUE</td><td> TRUE</td><td>TRUE</td><td>8 </td><td>18189.16</td><td>0.6675836</td><td>-318.3090</td></tr>\n",
       "\t<tr><th scope=row>9</th><td>TRUE</td><td> TRUE</td><td> TRUE</td><td>FALSE</td><td> TRUE</td><td> TRUE</td><td> TRUE</td><td>FALSE</td><td>FALSE</td><td>FALSE</td><td> TRUE</td><td> TRUE</td><td> TRUE</td><td>TRUE</td><td>9 </td><td>17926.37</td><td>0.6713593</td><td>-317.3010</td></tr>\n",
       "\t<tr><th scope=row>10</th><td>TRUE</td><td> TRUE</td><td> TRUE</td><td>FALSE</td><td> TRUE</td><td> TRUE</td><td>FALSE</td><td> TRUE</td><td> TRUE</td><td>FALSE</td><td> TRUE</td><td> TRUE</td><td> TRUE</td><td>TRUE</td><td>10</td><td>17862.75</td><td>0.6714959</td><td>-312.6747</td></tr>\n",
       "\t<tr><th scope=row>11</th><td>TRUE</td><td> TRUE</td><td> TRUE</td><td>FALSE</td><td> TRUE</td><td> TRUE</td><td> TRUE</td><td> TRUE</td><td> TRUE</td><td>FALSE</td><td> TRUE</td><td> TRUE</td><td> TRUE</td><td>TRUE</td><td>11</td><td>17620.36</td><td>0.6749312</td><td>-311.3735</td></tr>\n",
       "\t<tr><th scope=row>12</th><td>TRUE</td><td> TRUE</td><td> TRUE</td><td>FALSE</td><td> TRUE</td><td> TRUE</td><td> TRUE</td><td> TRUE</td><td> TRUE</td><td> TRUE</td><td> TRUE</td><td> TRUE</td><td> TRUE</td><td>TRUE</td><td>12</td><td>17561.19</td><td>0.6749975</td><td>-306.6840</td></tr>\n",
       "\t<tr><th scope=row>13</th><td>TRUE</td><td> TRUE</td><td> TRUE</td><td> TRUE</td><td> TRUE</td><td> TRUE</td><td> TRUE</td><td> TRUE</td><td> TRUE</td><td> TRUE</td><td> TRUE</td><td> TRUE</td><td> TRUE</td><td>TRUE</td><td>13</td><td>17554.06</td><td>0.6740982</td><td>-301.0216</td></tr>\n",
       "</tbody>\n",
       "</table>\n"
      ],
      "text/latex": [
       "A data.frame: 13 × 18\n",
       "\\begin{tabular}{r|llllllllllllllllll}\n",
       "  & X.Intercept. & x1\\_transaction\\_date & x2\\_house\\_age & x3\\_distance\\_to\\_the\\_nearest\\_mrt\\_station & x4\\_number\\_of\\_convenience\\_stores & x5\\_latitude & x6\\_longitude & year & month & neighborhood & distance\\_to\\_mrt\\_category250m\\_500m & distance\\_to\\_mrt\\_category500m\\_750m & distance\\_to\\_mrt\\_category750m\\_1000m & distance\\_to\\_mrt\\_categoryover\\_1000m & model & RSS & AdjR2 & BIC\\\\\n",
       "  & <lgl> & <lgl> & <lgl> & <lgl> & <lgl> & <lgl> & <lgl> & <lgl> & <lgl> & <lgl> & <lgl> & <lgl> & <lgl> & <lgl> & <chr> & <dbl> & <dbl> & <dbl>\\\\\n",
       "\\hline\n",
       "\t1 & TRUE & FALSE & FALSE & FALSE & FALSE & FALSE & FALSE & FALSE & FALSE & FALSE & FALSE & FALSE & FALSE & TRUE & 1  & 28738.28 & 0.4860359 & -208.3955\\\\\n",
       "\t2 & TRUE & FALSE &  TRUE & FALSE & FALSE & FALSE & FALSE & FALSE & FALSE & FALSE & FALSE & FALSE & FALSE & TRUE & 2  & 25226.19 & 0.5474634 & -245.4838\\\\\n",
       "\t3 & TRUE & FALSE &  TRUE & FALSE &  TRUE & FALSE & FALSE & FALSE & FALSE & FALSE & FALSE & FALSE & FALSE & TRUE & 3  & 22119.45 & 0.6019748 & -282.9267\\\\\n",
       "\t4 & TRUE & FALSE &  TRUE & FALSE &  TRUE &  TRUE & FALSE & FALSE & FALSE & FALSE & FALSE & FALSE & FALSE & TRUE & 4  & 20647.13 & 0.6273215 & -299.7924\\\\\n",
       "\t5 & TRUE & FALSE &  TRUE & FALSE &  TRUE &  TRUE & FALSE & FALSE & FALSE & FALSE & FALSE & FALSE &  TRUE & TRUE & 5  & 19862.00 & 0.6403831 & -306.7510\\\\\n",
       "\t6 & TRUE &  TRUE &  TRUE & FALSE &  TRUE &  TRUE & FALSE & FALSE & FALSE & FALSE & FALSE & FALSE &  TRUE & TRUE & 6  & 19178.16 & 0.6516861 & -312.4818\\\\\n",
       "\t7 & TRUE &  TRUE &  TRUE & FALSE &  TRUE &  TRUE & FALSE & FALSE & FALSE & FALSE &  TRUE & FALSE &  TRUE & TRUE & 7  & 18835.99 & 0.6568349 & -312.6087\\\\\n",
       "\t8 & TRUE &  TRUE &  TRUE & FALSE &  TRUE &  TRUE & FALSE & FALSE & FALSE & FALSE &  TRUE &  TRUE &  TRUE & TRUE & 8  & 18189.16 & 0.6675836 & -318.3090\\\\\n",
       "\t9 & TRUE &  TRUE &  TRUE & FALSE &  TRUE &  TRUE &  TRUE & FALSE & FALSE & FALSE &  TRUE &  TRUE &  TRUE & TRUE & 9  & 17926.37 & 0.6713593 & -317.3010\\\\\n",
       "\t10 & TRUE &  TRUE &  TRUE & FALSE &  TRUE &  TRUE & FALSE &  TRUE &  TRUE & FALSE &  TRUE &  TRUE &  TRUE & TRUE & 10 & 17862.75 & 0.6714959 & -312.6747\\\\\n",
       "\t11 & TRUE &  TRUE &  TRUE & FALSE &  TRUE &  TRUE &  TRUE &  TRUE &  TRUE & FALSE &  TRUE &  TRUE &  TRUE & TRUE & 11 & 17620.36 & 0.6749312 & -311.3735\\\\\n",
       "\t12 & TRUE &  TRUE &  TRUE & FALSE &  TRUE &  TRUE &  TRUE &  TRUE &  TRUE &  TRUE &  TRUE &  TRUE &  TRUE & TRUE & 12 & 17561.19 & 0.6749975 & -306.6840\\\\\n",
       "\t13 & TRUE &  TRUE &  TRUE &  TRUE &  TRUE &  TRUE &  TRUE &  TRUE &  TRUE &  TRUE &  TRUE &  TRUE &  TRUE & TRUE & 13 & 17554.06 & 0.6740982 & -301.0216\\\\\n",
       "\\end{tabular}\n"
      ],
      "text/markdown": [
       "\n",
       "A data.frame: 13 × 18\n",
       "\n",
       "| <!--/--> | X.Intercept. &lt;lgl&gt; | x1_transaction_date &lt;lgl&gt; | x2_house_age &lt;lgl&gt; | x3_distance_to_the_nearest_mrt_station &lt;lgl&gt; | x4_number_of_convenience_stores &lt;lgl&gt; | x5_latitude &lt;lgl&gt; | x6_longitude &lt;lgl&gt; | year &lt;lgl&gt; | month &lt;lgl&gt; | neighborhood &lt;lgl&gt; | distance_to_mrt_category250m_500m &lt;lgl&gt; | distance_to_mrt_category500m_750m &lt;lgl&gt; | distance_to_mrt_category750m_1000m &lt;lgl&gt; | distance_to_mrt_categoryover_1000m &lt;lgl&gt; | model &lt;chr&gt; | RSS &lt;dbl&gt; | AdjR2 &lt;dbl&gt; | BIC &lt;dbl&gt; |\n",
       "|---|---|---|---|---|---|---|---|---|---|---|---|---|---|---|---|---|---|---|\n",
       "| 1 | TRUE | FALSE | FALSE | FALSE | FALSE | FALSE | FALSE | FALSE | FALSE | FALSE | FALSE | FALSE | FALSE | TRUE | 1  | 28738.28 | 0.4860359 | -208.3955 |\n",
       "| 2 | TRUE | FALSE |  TRUE | FALSE | FALSE | FALSE | FALSE | FALSE | FALSE | FALSE | FALSE | FALSE | FALSE | TRUE | 2  | 25226.19 | 0.5474634 | -245.4838 |\n",
       "| 3 | TRUE | FALSE |  TRUE | FALSE |  TRUE | FALSE | FALSE | FALSE | FALSE | FALSE | FALSE | FALSE | FALSE | TRUE | 3  | 22119.45 | 0.6019748 | -282.9267 |\n",
       "| 4 | TRUE | FALSE |  TRUE | FALSE |  TRUE |  TRUE | FALSE | FALSE | FALSE | FALSE | FALSE | FALSE | FALSE | TRUE | 4  | 20647.13 | 0.6273215 | -299.7924 |\n",
       "| 5 | TRUE | FALSE |  TRUE | FALSE |  TRUE |  TRUE | FALSE | FALSE | FALSE | FALSE | FALSE | FALSE |  TRUE | TRUE | 5  | 19862.00 | 0.6403831 | -306.7510 |\n",
       "| 6 | TRUE |  TRUE |  TRUE | FALSE |  TRUE |  TRUE | FALSE | FALSE | FALSE | FALSE | FALSE | FALSE |  TRUE | TRUE | 6  | 19178.16 | 0.6516861 | -312.4818 |\n",
       "| 7 | TRUE |  TRUE |  TRUE | FALSE |  TRUE |  TRUE | FALSE | FALSE | FALSE | FALSE |  TRUE | FALSE |  TRUE | TRUE | 7  | 18835.99 | 0.6568349 | -312.6087 |\n",
       "| 8 | TRUE |  TRUE |  TRUE | FALSE |  TRUE |  TRUE | FALSE | FALSE | FALSE | FALSE |  TRUE |  TRUE |  TRUE | TRUE | 8  | 18189.16 | 0.6675836 | -318.3090 |\n",
       "| 9 | TRUE |  TRUE |  TRUE | FALSE |  TRUE |  TRUE |  TRUE | FALSE | FALSE | FALSE |  TRUE |  TRUE |  TRUE | TRUE | 9  | 17926.37 | 0.6713593 | -317.3010 |\n",
       "| 10 | TRUE |  TRUE |  TRUE | FALSE |  TRUE |  TRUE | FALSE |  TRUE |  TRUE | FALSE |  TRUE |  TRUE |  TRUE | TRUE | 10 | 17862.75 | 0.6714959 | -312.6747 |\n",
       "| 11 | TRUE |  TRUE |  TRUE | FALSE |  TRUE |  TRUE |  TRUE |  TRUE |  TRUE | FALSE |  TRUE |  TRUE |  TRUE | TRUE | 11 | 17620.36 | 0.6749312 | -311.3735 |\n",
       "| 12 | TRUE |  TRUE |  TRUE | FALSE |  TRUE |  TRUE |  TRUE |  TRUE |  TRUE |  TRUE |  TRUE |  TRUE |  TRUE | TRUE | 12 | 17561.19 | 0.6749975 | -306.6840 |\n",
       "| 13 | TRUE |  TRUE |  TRUE |  TRUE |  TRUE |  TRUE |  TRUE |  TRUE |  TRUE |  TRUE |  TRUE |  TRUE |  TRUE | TRUE | 13 | 17554.06 | 0.6740982 | -301.0216 |\n",
       "\n"
      ],
      "text/plain": [
       "   X.Intercept. x1_transaction_date x2_house_age\n",
       "1  TRUE         FALSE               FALSE       \n",
       "2  TRUE         FALSE                TRUE       \n",
       "3  TRUE         FALSE                TRUE       \n",
       "4  TRUE         FALSE                TRUE       \n",
       "5  TRUE         FALSE                TRUE       \n",
       "6  TRUE          TRUE                TRUE       \n",
       "7  TRUE          TRUE                TRUE       \n",
       "8  TRUE          TRUE                TRUE       \n",
       "9  TRUE          TRUE                TRUE       \n",
       "10 TRUE          TRUE                TRUE       \n",
       "11 TRUE          TRUE                TRUE       \n",
       "12 TRUE          TRUE                TRUE       \n",
       "13 TRUE          TRUE                TRUE       \n",
       "   x3_distance_to_the_nearest_mrt_station x4_number_of_convenience_stores\n",
       "1  FALSE                                  FALSE                          \n",
       "2  FALSE                                  FALSE                          \n",
       "3  FALSE                                   TRUE                          \n",
       "4  FALSE                                   TRUE                          \n",
       "5  FALSE                                   TRUE                          \n",
       "6  FALSE                                   TRUE                          \n",
       "7  FALSE                                   TRUE                          \n",
       "8  FALSE                                   TRUE                          \n",
       "9  FALSE                                   TRUE                          \n",
       "10 FALSE                                   TRUE                          \n",
       "11 FALSE                                   TRUE                          \n",
       "12 FALSE                                   TRUE                          \n",
       "13  TRUE                                   TRUE                          \n",
       "   x5_latitude x6_longitude year  month neighborhood\n",
       "1  FALSE       FALSE        FALSE FALSE FALSE       \n",
       "2  FALSE       FALSE        FALSE FALSE FALSE       \n",
       "3  FALSE       FALSE        FALSE FALSE FALSE       \n",
       "4   TRUE       FALSE        FALSE FALSE FALSE       \n",
       "5   TRUE       FALSE        FALSE FALSE FALSE       \n",
       "6   TRUE       FALSE        FALSE FALSE FALSE       \n",
       "7   TRUE       FALSE        FALSE FALSE FALSE       \n",
       "8   TRUE       FALSE        FALSE FALSE FALSE       \n",
       "9   TRUE        TRUE        FALSE FALSE FALSE       \n",
       "10  TRUE       FALSE         TRUE  TRUE FALSE       \n",
       "11  TRUE        TRUE         TRUE  TRUE FALSE       \n",
       "12  TRUE        TRUE         TRUE  TRUE  TRUE       \n",
       "13  TRUE        TRUE         TRUE  TRUE  TRUE       \n",
       "   distance_to_mrt_category250m_500m distance_to_mrt_category500m_750m\n",
       "1  FALSE                             FALSE                            \n",
       "2  FALSE                             FALSE                            \n",
       "3  FALSE                             FALSE                            \n",
       "4  FALSE                             FALSE                            \n",
       "5  FALSE                             FALSE                            \n",
       "6  FALSE                             FALSE                            \n",
       "7   TRUE                             FALSE                            \n",
       "8   TRUE                              TRUE                            \n",
       "9   TRUE                              TRUE                            \n",
       "10  TRUE                              TRUE                            \n",
       "11  TRUE                              TRUE                            \n",
       "12  TRUE                              TRUE                            \n",
       "13  TRUE                              TRUE                            \n",
       "   distance_to_mrt_category750m_1000m distance_to_mrt_categoryover_1000m model\n",
       "1  FALSE                              TRUE                               1    \n",
       "2  FALSE                              TRUE                               2    \n",
       "3  FALSE                              TRUE                               3    \n",
       "4  FALSE                              TRUE                               4    \n",
       "5   TRUE                              TRUE                               5    \n",
       "6   TRUE                              TRUE                               6    \n",
       "7   TRUE                              TRUE                               7    \n",
       "8   TRUE                              TRUE                               8    \n",
       "9   TRUE                              TRUE                               9    \n",
       "10  TRUE                              TRUE                               10   \n",
       "11  TRUE                              TRUE                               11   \n",
       "12  TRUE                              TRUE                               12   \n",
       "13  TRUE                              TRUE                               13   \n",
       "   RSS      AdjR2     BIC      \n",
       "1  28738.28 0.4860359 -208.3955\n",
       "2  25226.19 0.5474634 -245.4838\n",
       "3  22119.45 0.6019748 -282.9267\n",
       "4  20647.13 0.6273215 -299.7924\n",
       "5  19862.00 0.6403831 -306.7510\n",
       "6  19178.16 0.6516861 -312.4818\n",
       "7  18835.99 0.6568349 -312.6087\n",
       "8  18189.16 0.6675836 -318.3090\n",
       "9  17926.37 0.6713593 -317.3010\n",
       "10 17862.75 0.6714959 -312.6747\n",
       "11 17620.36 0.6749312 -311.3735\n",
       "12 17561.19 0.6749975 -306.6840\n",
       "13 17554.06 0.6740982 -301.0216"
      ]
     },
     "metadata": {},
     "output_type": "display_data"
    }
   ],
   "source": [
    "s <- regsubsets(y_house_price_of_unit_area ~., data = model_df, method = \"exhaustive\", nvmax = 100)\n",
    "ss <- summary(s)\n",
    "\n",
    "rss <- ss$rss\n",
    "adjr2 <- ss$adjr2\n",
    "bic <- ss$bic\n",
    "\n",
    "variables <- data.frame((ss$which))\n",
    "variables$model <- rownames(variables)\n",
    "rownames(variables) <- 1:nrow(variables)\n",
    "\n",
    "rss <- ss$rss\n",
    "adjr2 <- ss$adjr2\n",
    "bic <- ss$bic\n",
    "\n",
    "output <- cbind(variables, RSS=rss, AdjR2=adjr2, BIC=bic)\n",
    "output"
   ]
  },
  {
   "cell_type": "code",
   "execution_count": 260,
   "metadata": {
    "vscode": {
     "languageId": "r"
    }
   },
   "outputs": [
    {
     "name": "stdout",
     "output_type": "stream",
     "text": [
      "[1] 12\n",
      "[1] 0.6749975\n"
     ]
    },
    {
     "data": {
      "text/html": [
       "<table class=\"dataframe\">\n",
       "<caption>A data.frame: 1 × 18</caption>\n",
       "<thead>\n",
       "\t<tr><th scope=col>X.Intercept.</th><th scope=col>x1_transaction_date</th><th scope=col>x2_house_age</th><th scope=col>x3_distance_to_the_nearest_mrt_station</th><th scope=col>x4_number_of_convenience_stores</th><th scope=col>x5_latitude</th><th scope=col>x6_longitude</th><th scope=col>year</th><th scope=col>month</th><th scope=col>neighborhood</th><th scope=col>distance_to_mrt_category250m_500m</th><th scope=col>distance_to_mrt_category500m_750m</th><th scope=col>distance_to_mrt_category750m_1000m</th><th scope=col>distance_to_mrt_categoryover_1000m</th><th scope=col>model</th><th scope=col>RSS</th><th scope=col>AdjR2</th><th scope=col>BIC</th></tr>\n",
       "\t<tr><th scope=col>&lt;lgl&gt;</th><th scope=col>&lt;lgl&gt;</th><th scope=col>&lt;lgl&gt;</th><th scope=col>&lt;lgl&gt;</th><th scope=col>&lt;lgl&gt;</th><th scope=col>&lt;lgl&gt;</th><th scope=col>&lt;lgl&gt;</th><th scope=col>&lt;lgl&gt;</th><th scope=col>&lt;lgl&gt;</th><th scope=col>&lt;lgl&gt;</th><th scope=col>&lt;lgl&gt;</th><th scope=col>&lt;lgl&gt;</th><th scope=col>&lt;lgl&gt;</th><th scope=col>&lt;lgl&gt;</th><th scope=col>&lt;chr&gt;</th><th scope=col>&lt;dbl&gt;</th><th scope=col>&lt;dbl&gt;</th><th scope=col>&lt;dbl&gt;</th></tr>\n",
       "</thead>\n",
       "<tbody>\n",
       "\t<tr><td>TRUE</td><td>TRUE</td><td>TRUE</td><td>FALSE</td><td>TRUE</td><td>TRUE</td><td>TRUE</td><td>TRUE</td><td>TRUE</td><td>TRUE</td><td>TRUE</td><td>TRUE</td><td>TRUE</td><td>TRUE</td><td>12</td><td>17561.19</td><td>0.6749975</td><td>-306.684</td></tr>\n",
       "</tbody>\n",
       "</table>\n"
      ],
      "text/latex": [
       "A data.frame: 1 × 18\n",
       "\\begin{tabular}{llllllllllllllllll}\n",
       " X.Intercept. & x1\\_transaction\\_date & x2\\_house\\_age & x3\\_distance\\_to\\_the\\_nearest\\_mrt\\_station & x4\\_number\\_of\\_convenience\\_stores & x5\\_latitude & x6\\_longitude & year & month & neighborhood & distance\\_to\\_mrt\\_category250m\\_500m & distance\\_to\\_mrt\\_category500m\\_750m & distance\\_to\\_mrt\\_category750m\\_1000m & distance\\_to\\_mrt\\_categoryover\\_1000m & model & RSS & AdjR2 & BIC\\\\\n",
       " <lgl> & <lgl> & <lgl> & <lgl> & <lgl> & <lgl> & <lgl> & <lgl> & <lgl> & <lgl> & <lgl> & <lgl> & <lgl> & <lgl> & <chr> & <dbl> & <dbl> & <dbl>\\\\\n",
       "\\hline\n",
       "\t TRUE & TRUE & TRUE & FALSE & TRUE & TRUE & TRUE & TRUE & TRUE & TRUE & TRUE & TRUE & TRUE & TRUE & 12 & 17561.19 & 0.6749975 & -306.684\\\\\n",
       "\\end{tabular}\n"
      ],
      "text/markdown": [
       "\n",
       "A data.frame: 1 × 18\n",
       "\n",
       "| X.Intercept. &lt;lgl&gt; | x1_transaction_date &lt;lgl&gt; | x2_house_age &lt;lgl&gt; | x3_distance_to_the_nearest_mrt_station &lt;lgl&gt; | x4_number_of_convenience_stores &lt;lgl&gt; | x5_latitude &lt;lgl&gt; | x6_longitude &lt;lgl&gt; | year &lt;lgl&gt; | month &lt;lgl&gt; | neighborhood &lt;lgl&gt; | distance_to_mrt_category250m_500m &lt;lgl&gt; | distance_to_mrt_category500m_750m &lt;lgl&gt; | distance_to_mrt_category750m_1000m &lt;lgl&gt; | distance_to_mrt_categoryover_1000m &lt;lgl&gt; | model &lt;chr&gt; | RSS &lt;dbl&gt; | AdjR2 &lt;dbl&gt; | BIC &lt;dbl&gt; |\n",
       "|---|---|---|---|---|---|---|---|---|---|---|---|---|---|---|---|---|---|\n",
       "| TRUE | TRUE | TRUE | FALSE | TRUE | TRUE | TRUE | TRUE | TRUE | TRUE | TRUE | TRUE | TRUE | TRUE | 12 | 17561.19 | 0.6749975 | -306.684 |\n",
       "\n"
      ],
      "text/plain": [
       "  X.Intercept. x1_transaction_date x2_house_age\n",
       "1 TRUE         TRUE                TRUE        \n",
       "  x3_distance_to_the_nearest_mrt_station x4_number_of_convenience_stores\n",
       "1 FALSE                                  TRUE                           \n",
       "  x5_latitude x6_longitude year month neighborhood\n",
       "1 TRUE        TRUE         TRUE TRUE  TRUE        \n",
       "  distance_to_mrt_category250m_500m distance_to_mrt_category500m_750m\n",
       "1 TRUE                              TRUE                             \n",
       "  distance_to_mrt_category750m_1000m distance_to_mrt_categoryover_1000m model\n",
       "1 TRUE                               TRUE                               12   \n",
       "  RSS      AdjR2     BIC     \n",
       "1 17561.19 0.6749975 -306.684"
      ]
     },
     "metadata": {},
     "output_type": "display_data"
    }
   ],
   "source": [
    "best_adjr2 <- which.max(output$AdjR2) \n",
    "print(best_adjr2)\n",
    "print(max(output$AdjR2))\n",
    "output %>% slice(best_adjr2)"
   ]
  },
  {
   "cell_type": "markdown",
   "metadata": {},
   "source": [
    "## Interpretation Of The Results"
   ]
  }
 ],
 "metadata": {
  "kernelspec": {
   "display_name": "R",
   "language": "R",
   "name": "ir"
  },
  "language_info": {
   "codemirror_mode": "r",
   "file_extension": ".r",
   "mimetype": "text/x-r-source",
   "name": "R",
   "pygments_lexer": "r",
   "version": "4.3.1"
  }
 },
 "nbformat": 4,
 "nbformat_minor": 2
}
