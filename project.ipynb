{
 "cells": [
  {
   "cell_type": "code",
   "execution_count": 62,
   "metadata": {
    "tags": [],
    "vscode": {
     "languageId": "r"
    }
   },
   "outputs": [],
   "source": [
    "library(tidyverse)\n",
    "library(tidymodels)\n",
    "library(janitor)\n",
    "library(leaps)\n",
    "library(GGally)"
   ]
  },
  {
   "cell_type": "markdown",
   "metadata": {},
   "source": [
    "# STAT 306 Group C3 Project"
   ]
  },
  {
   "cell_type": "markdown",
   "metadata": {},
   "source": [
    "# The Data & Goal Analysis"
   ]
  },
  {
   "cell_type": "markdown",
   "metadata": {},
   "source": [
    "The data being explored is the [Real Estate Valuation Data Set](https://archive.ics.uci.edu/dataset/477/real+estate+valuation+data+set) that explores real-estate prices in Sindian Dist., New Taipei City, Taiwan. This data consists of n=414 observations that contain various numerical and time-related features. This data was obtained through UC Irvine Machine Learning Repository."
   ]
  },
  {
   "cell_type": "markdown",
   "metadata": {},
   "source": [
    "The variables we have are: \n",
    "- X1 =  The transaction date in numerical units. For instance, 2013.250 equals March 2013, where the month is depicted as a fraction of the year (3/12 = 0.250) \n",
    "- X2 = The house age in years\n",
    "- X3 = Distance to the nearest MRT station in metres (MRTs are metro transit systems) \n",
    "- X4 = Number of convenience stores in the living circle on foot by count (integer)\n",
    "- X5 = Latitude in degree\n",
    "- X6 = Longitude in degree"
   ]
  },
  {
   "cell_type": "markdown",
   "metadata": {},
   "source": [
    "**The primary objective of this analysis is to determine how the real estate price is influenced by various factors such as house age, proximity to transportation (MRT), convenience store availability, and geographical location.**"
   ]
  },
  {
   "cell_type": "markdown",
   "metadata": {},
   "source": [
    "# Reading In the Data"
   ]
  },
  {
   "cell_type": "code",
   "execution_count": 63,
   "metadata": {
    "tags": [],
    "vscode": {
     "languageId": "r"
    }
   },
   "outputs": [
    {
     "name": "stderr",
     "output_type": "stream",
     "text": [
      "\u001b[1mRows: \u001b[22m\u001b[34m414\u001b[39m \u001b[1mColumns: \u001b[22m\u001b[34m8\u001b[39m\n",
      "\u001b[36m──\u001b[39m \u001b[1mColumn specification\u001b[22m \u001b[36m────────────────────────────────────────────────────────\u001b[39m\n",
      "\u001b[1mDelimiter:\u001b[22m \",\"\n",
      "\u001b[32mdbl\u001b[39m (8): No, X1 transaction date, X2 house age, X3 distance to the nearest M...\n",
      "\n",
      "\u001b[36mℹ\u001b[39m Use `spec()` to retrieve the full column specification for this data.\n",
      "\u001b[36mℹ\u001b[39m Specify the column types or set `show_col_types = FALSE` to quiet this message.\n"
     ]
    },
    {
     "data": {
      "text/html": [
       "<table class=\"dataframe\">\n",
       "<caption>A tibble: 6 × 8</caption>\n",
       "<thead>\n",
       "\t<tr><th scope=col>no</th><th scope=col>x1_transaction_date</th><th scope=col>x2_house_age</th><th scope=col>x3_distance_to_the_nearest_mrt_station</th><th scope=col>x4_number_of_convenience_stores</th><th scope=col>x5_latitude</th><th scope=col>x6_longitude</th><th scope=col>y_house_price_of_unit_area</th></tr>\n",
       "\t<tr><th scope=col>&lt;dbl&gt;</th><th scope=col>&lt;dbl&gt;</th><th scope=col>&lt;dbl&gt;</th><th scope=col>&lt;dbl&gt;</th><th scope=col>&lt;dbl&gt;</th><th scope=col>&lt;dbl&gt;</th><th scope=col>&lt;dbl&gt;</th><th scope=col>&lt;dbl&gt;</th></tr>\n",
       "</thead>\n",
       "<tbody>\n",
       "\t<tr><td>1</td><td>2012.917</td><td>32.0</td><td>  84.87882</td><td>10</td><td>24.98298</td><td>121.5402</td><td>37.9</td></tr>\n",
       "\t<tr><td>2</td><td>2012.917</td><td>19.5</td><td> 306.59470</td><td> 9</td><td>24.98034</td><td>121.5395</td><td>42.2</td></tr>\n",
       "\t<tr><td>3</td><td>2013.583</td><td>13.3</td><td> 561.98450</td><td> 5</td><td>24.98746</td><td>121.5439</td><td>47.3</td></tr>\n",
       "\t<tr><td>4</td><td>2013.500</td><td>13.3</td><td> 561.98450</td><td> 5</td><td>24.98746</td><td>121.5439</td><td>54.8</td></tr>\n",
       "\t<tr><td>5</td><td>2012.833</td><td> 5.0</td><td> 390.56840</td><td> 5</td><td>24.97937</td><td>121.5425</td><td>43.1</td></tr>\n",
       "\t<tr><td>6</td><td>2012.667</td><td> 7.1</td><td>2175.03000</td><td> 3</td><td>24.96305</td><td>121.5125</td><td>32.1</td></tr>\n",
       "</tbody>\n",
       "</table>\n"
      ],
      "text/latex": [
       "A tibble: 6 × 8\n",
       "\\begin{tabular}{llllllll}\n",
       " no & x1\\_transaction\\_date & x2\\_house\\_age & x3\\_distance\\_to\\_the\\_nearest\\_mrt\\_station & x4\\_number\\_of\\_convenience\\_stores & x5\\_latitude & x6\\_longitude & y\\_house\\_price\\_of\\_unit\\_area\\\\\n",
       " <dbl> & <dbl> & <dbl> & <dbl> & <dbl> & <dbl> & <dbl> & <dbl>\\\\\n",
       "\\hline\n",
       "\t 1 & 2012.917 & 32.0 &   84.87882 & 10 & 24.98298 & 121.5402 & 37.9\\\\\n",
       "\t 2 & 2012.917 & 19.5 &  306.59470 &  9 & 24.98034 & 121.5395 & 42.2\\\\\n",
       "\t 3 & 2013.583 & 13.3 &  561.98450 &  5 & 24.98746 & 121.5439 & 47.3\\\\\n",
       "\t 4 & 2013.500 & 13.3 &  561.98450 &  5 & 24.98746 & 121.5439 & 54.8\\\\\n",
       "\t 5 & 2012.833 &  5.0 &  390.56840 &  5 & 24.97937 & 121.5425 & 43.1\\\\\n",
       "\t 6 & 2012.667 &  7.1 & 2175.03000 &  3 & 24.96305 & 121.5125 & 32.1\\\\\n",
       "\\end{tabular}\n"
      ],
      "text/markdown": [
       "\n",
       "A tibble: 6 × 8\n",
       "\n",
       "| no &lt;dbl&gt; | x1_transaction_date &lt;dbl&gt; | x2_house_age &lt;dbl&gt; | x3_distance_to_the_nearest_mrt_station &lt;dbl&gt; | x4_number_of_convenience_stores &lt;dbl&gt; | x5_latitude &lt;dbl&gt; | x6_longitude &lt;dbl&gt; | y_house_price_of_unit_area &lt;dbl&gt; |\n",
       "|---|---|---|---|---|---|---|---|\n",
       "| 1 | 2012.917 | 32.0 |   84.87882 | 10 | 24.98298 | 121.5402 | 37.9 |\n",
       "| 2 | 2012.917 | 19.5 |  306.59470 |  9 | 24.98034 | 121.5395 | 42.2 |\n",
       "| 3 | 2013.583 | 13.3 |  561.98450 |  5 | 24.98746 | 121.5439 | 47.3 |\n",
       "| 4 | 2013.500 | 13.3 |  561.98450 |  5 | 24.98746 | 121.5439 | 54.8 |\n",
       "| 5 | 2012.833 |  5.0 |  390.56840 |  5 | 24.97937 | 121.5425 | 43.1 |\n",
       "| 6 | 2012.667 |  7.1 | 2175.03000 |  3 | 24.96305 | 121.5125 | 32.1 |\n",
       "\n"
      ],
      "text/plain": [
       "  no x1_transaction_date x2_house_age x3_distance_to_the_nearest_mrt_station\n",
       "1 1  2012.917            32.0           84.87882                            \n",
       "2 2  2012.917            19.5          306.59470                            \n",
       "3 3  2013.583            13.3          561.98450                            \n",
       "4 4  2013.500            13.3          561.98450                            \n",
       "5 5  2012.833             5.0          390.56840                            \n",
       "6 6  2012.667             7.1         2175.03000                            \n",
       "  x4_number_of_convenience_stores x5_latitude x6_longitude\n",
       "1 10                              24.98298    121.5402    \n",
       "2  9                              24.98034    121.5395    \n",
       "3  5                              24.98746    121.5439    \n",
       "4  5                              24.98746    121.5439    \n",
       "5  5                              24.97937    121.5425    \n",
       "6  3                              24.96305    121.5125    \n",
       "  y_house_price_of_unit_area\n",
       "1 37.9                      \n",
       "2 42.2                      \n",
       "3 47.3                      \n",
       "4 54.8                      \n",
       "5 43.1                      \n",
       "6 32.1                      "
      ]
     },
     "metadata": {},
     "output_type": "display_data"
    }
   ],
   "source": [
    "real_estate_data <- read_csv(\"./data/real_estate.csv\")\n",
    "real_estate_data <- clean_names(real_estate_data)\n",
    "head(real_estate_data)\n",
    "\n",
    "set.seed(123) # for reproducibility\n",
    "df_split <- initial_split(real_estate_data, prop = 0.8, strata = y_house_price_of_unit_area)\n",
    "df_train <- training(df_split)\n",
    "df_test <- testing(df_split)"
   ]
  },
  {
   "cell_type": "markdown",
   "metadata": {},
   "source": [
    "# Exploratory Data Analysis\n",
    "\n",
    "To begin our EDA, we first determine the severity of our missing data"
   ]
  },
  {
   "cell_type": "code",
   "execution_count": 64,
   "metadata": {
    "tags": [],
    "vscode": {
     "languageId": "r"
    }
   },
   "outputs": [
    {
     "data": {
      "text/html": [
       "<table class=\"dataframe\">\n",
       "<caption>A data.frame: 8 × 1</caption>\n",
       "<thead>\n",
       "\t<tr><th></th><th scope=col>sapply.df_train..function.y..sum.is.na.y...</th></tr>\n",
       "\t<tr><th></th><th scope=col>&lt;int&gt;</th></tr>\n",
       "</thead>\n",
       "<tbody>\n",
       "\t<tr><th scope=row>no</th><td>0</td></tr>\n",
       "\t<tr><th scope=row>x1_transaction_date</th><td>0</td></tr>\n",
       "\t<tr><th scope=row>x2_house_age</th><td>0</td></tr>\n",
       "\t<tr><th scope=row>x3_distance_to_the_nearest_mrt_station</th><td>0</td></tr>\n",
       "\t<tr><th scope=row>x4_number_of_convenience_stores</th><td>0</td></tr>\n",
       "\t<tr><th scope=row>x5_latitude</th><td>0</td></tr>\n",
       "\t<tr><th scope=row>x6_longitude</th><td>0</td></tr>\n",
       "\t<tr><th scope=row>y_house_price_of_unit_area</th><td>0</td></tr>\n",
       "</tbody>\n",
       "</table>\n"
      ],
      "text/latex": [
       "A data.frame: 8 × 1\n",
       "\\begin{tabular}{r|l}\n",
       "  & sapply.df\\_train..function.y..sum.is.na.y...\\\\\n",
       "  & <int>\\\\\n",
       "\\hline\n",
       "\tno & 0\\\\\n",
       "\tx1\\_transaction\\_date & 0\\\\\n",
       "\tx2\\_house\\_age & 0\\\\\n",
       "\tx3\\_distance\\_to\\_the\\_nearest\\_mrt\\_station & 0\\\\\n",
       "\tx4\\_number\\_of\\_convenience\\_stores & 0\\\\\n",
       "\tx5\\_latitude & 0\\\\\n",
       "\tx6\\_longitude & 0\\\\\n",
       "\ty\\_house\\_price\\_of\\_unit\\_area & 0\\\\\n",
       "\\end{tabular}\n"
      ],
      "text/markdown": [
       "\n",
       "A data.frame: 8 × 1\n",
       "\n",
       "| <!--/--> | sapply.df_train..function.y..sum.is.na.y... &lt;int&gt; |\n",
       "|---|---|\n",
       "| no | 0 |\n",
       "| x1_transaction_date | 0 |\n",
       "| x2_house_age | 0 |\n",
       "| x3_distance_to_the_nearest_mrt_station | 0 |\n",
       "| x4_number_of_convenience_stores | 0 |\n",
       "| x5_latitude | 0 |\n",
       "| x6_longitude | 0 |\n",
       "| y_house_price_of_unit_area | 0 |\n",
       "\n"
      ],
      "text/plain": [
       "                                       sapply.df_train..function.y..sum.is.na.y...\n",
       "no                                     0                                          \n",
       "x1_transaction_date                    0                                          \n",
       "x2_house_age                           0                                          \n",
       "x3_distance_to_the_nearest_mrt_station 0                                          \n",
       "x4_number_of_convenience_stores        0                                          \n",
       "x5_latitude                            0                                          \n",
       "x6_longitude                           0                                          \n",
       "y_house_price_of_unit_area             0                                          "
      ]
     },
     "metadata": {},
     "output_type": "display_data"
    }
   ],
   "source": [
    "na_count <- data.frame(sapply(df_train, function(y) sum(is.na(y))))\n",
    "na_count"
   ]
  },
  {
   "cell_type": "markdown",
   "metadata": {},
   "source": [
    "As determined in the above code cell, there are no observations with missing data; we may proceed without any data imputation.\n",
    "\n",
    "\n",
    "\n",
    "As per the objective of this project, we explore house age, distance to the nearest mrt station, number of convenience stores, and geographical location in relation to the response variable: the house price of unit area. The transaction date feature was dropped as it incorporates a time series component; this greatly increases the complexity of the task and demands the assertion of several strong assumptions for any model within the scope of STAT 306.\n",
    "\n",
    "To create a feature for geographical location, we must discretize the longitude and latitude features together; this allows for a simpler analysis. We use k-means clustering to combine the two features into one."
   ]
  },
  {
   "cell_type": "code",
   "execution_count": 65,
   "metadata": {
    "tags": [],
    "vscode": {
     "languageId": "r"
    }
   },
   "outputs": [],
   "source": [
    "# Create location-based features\n",
    "df_train$neighborhood <- kmeans(df_train[, c('x5_latitude', 'x6_longitude')], centers = 5)$cluster "
   ]
  },
  {
   "cell_type": "markdown",
   "metadata": {},
   "source": [
    "A simple next step would be to explore the basic summary statistics of our data."
   ]
  },
  {
   "cell_type": "code",
   "execution_count": 66,
   "metadata": {
    "tags": [],
    "vscode": {
     "languageId": "r"
    }
   },
   "outputs": [
    {
     "data": {
      "text/plain": [
       "  x2_house_age   x3_distance_to_the_nearest_mrt_station\n",
       " Min.   : 0.00   Min.   :  23.38                       \n",
       " 1st Qu.: 8.50   1st Qu.: 289.32                       \n",
       " Median :15.90   Median : 492.23                       \n",
       " Mean   :17.52   Mean   :1087.99                       \n",
       " 3rd Qu.:27.60   3rd Qu.:1455.80                       \n",
       " Max.   :43.80   Max.   :6488.02                       \n",
       " x4_number_of_convenience_stores y_house_price_of_unit_area\n",
       " Min.   : 0.000                  Min.   :  7.60            \n",
       " 1st Qu.: 1.000                  1st Qu.: 27.70            \n",
       " Median : 4.000                  Median : 38.50            \n",
       " Mean   : 4.009                  Mean   : 38.01            \n",
       " 3rd Qu.: 6.000                  3rd Qu.: 46.60            \n",
       " Max.   :10.000                  Max.   :117.50            "
      ]
     },
     "metadata": {},
     "output_type": "display_data"
    }
   ],
   "source": [
    "df_train %>%\n",
    "    select(\n",
    "        x2_house_age,\n",
    "        x3_distance_to_the_nearest_mrt_station,\n",
    "        x4_number_of_convenience_stores,\n",
    "        y_house_price_of_unit_area\n",
    "    ) %>%\n",
    "    summary()"
   ]
  },
  {
   "cell_type": "code",
   "execution_count": null,
   "metadata": {
    "tags": [],
    "vscode": {
     "languageId": "r"
    }
   },
   "outputs": [],
   "source": [
    "df_train %>%\n",
    "    ggplot(aes(x = x6_longitude, y = x5_latitude, colour = as.factor(neighborhood), shape = as.factor(neighborhood))) +\n",
    "        geom_point() + \n",
    "        xlab(\"Longitude\") + \n",
    "        ylab(\"Latitude\") +\n",
    "        ggtitle(\"Neighbourhood cluster assignments (for reference)\")"
   ]
  },
  {
   "cell_type": "code",
   "execution_count": null,
   "metadata": {
    "tags": [],
    "vscode": {
     "languageId": "r"
    }
   },
   "outputs": [],
   "source": [
    "df_train %>%\n",
    "    ggplot(aes(x = x2_house_age, y = y_house_price_of_unit_area)) +\n",
    "        geom_point() + \n",
    "        xlab(\"House Age\") + \n",
    "        ylab(\"House Price\") +\n",
    "        ggtitle(\"House Price vs House Age\")"
   ]
  },
  {
   "cell_type": "markdown",
   "metadata": {},
   "source": [
    "From the above graph, we can determine that there exists a some relationship between house age and price. It can be observed that prices lower as houses get older, however, at around 30 years, the price of these houses can remain high. This could potentially be explained by the types of houses that have lasted for over 30 years. For example, apartment buildings might have been demolished after 30 years to build new ones whereas single family homes may have been maintained for much longer. This could be supported by the existence of fewer observations for houses older than 30 years"
   ]
  },
  {
   "cell_type": "code",
   "execution_count": null,
   "metadata": {
    "tags": [],
    "vscode": {
     "languageId": "r"
    }
   },
   "outputs": [],
   "source": [
    "df_train %>%\n",
    "    ggplot(aes(x = x3_distance_to_the_nearest_mrt_station, y = y_house_price_of_unit_area)) +\n",
    "        geom_point() + \n",
    "        xlab(\"Distance to nearest MRT station\") + \n",
    "        ylab(\"House Price\") +\n",
    "        ggtitle(\"House Price vs Distance to nearest MRT station\")"
   ]
  },
  {
   "cell_type": "markdown",
   "metadata": {},
   "source": [
    "From the above graph, it seems there is a strong correlation between a house's distance to the nearest MRT station and its price. Homes closer to MRT stations are likely ones within a densely populated area; this would likely bring up the price"
   ]
  },
  {
   "cell_type": "code",
   "execution_count": null,
   "metadata": {
    "tags": [],
    "vscode": {
     "languageId": "r"
    }
   },
   "outputs": [],
   "source": [
    "df_train %>%\n",
    "    ggplot(aes(x = as.factor(x4_number_of_convenience_stores), y = y_house_price_of_unit_area)) +\n",
    "        geom_boxplot() + \n",
    "        xlab(\"Number of convenience stores\") + \n",
    "        ylab(\"House Price\") +\n",
    "        ggtitle(\"House Price vs Number of convenience stores\")"
   ]
  },
  {
   "cell_type": "markdown",
   "metadata": {},
   "source": [
    "Since the number of convenience store is represented as an integer, the most appropriate visualization would be through a box plot. This demonstrates that housing prices tend to increase as the number of convenience stores increase. This is likely a result of the appeal of many nearby convenience stores which can offer a variety of shopping and food options."
   ]
  },
  {
   "cell_type": "code",
   "execution_count": null,
   "metadata": {
    "tags": [],
    "vscode": {
     "languageId": "r"
    }
   },
   "outputs": [],
   "source": [
    "df_train %>%\n",
    "    ggplot(aes(x = as.factor(neighborhood), y = y_house_price_of_unit_area)) +\n",
    "        geom_boxplot() + \n",
    "        xlab(\"Neighborhood\") + \n",
    "        ylab(\"House Price\") +\n",
    "        ggtitle(\"House Price vs Neighborhood\")"
   ]
  },
  {
   "cell_type": "markdown",
   "metadata": {},
   "source": [
    "Since we represent locational data as clusters, it is inherently a categorical variable. This boxplot demonstrates that there seems to be some indication that specific neighborhoods/regions have higher priced houses compared to others. This could be a result of major cities/neighbourhoods having a higher cost of living compared to non-major cities/neighbourhoods; for example, in BC, a similar pattern can be seen between Metro Vancouver and the Okanagan.\n",
    "\n",
    "To further explore our data, we can create a correlation matrix to identify any potentially collinear features. We do not include neighbourhood here it is a categorical feature"
   ]
  },
  {
   "cell_type": "code",
   "execution_count": null,
   "metadata": {
    "tags": [],
    "vscode": {
     "languageId": "r"
    }
   },
   "outputs": [],
   "source": [
    "df_train %>%\n",
    "    mutate(y = y_house_price_of_unit_area,\n",
    "        house_age = x2_house_age,\n",
    "        distance_to_mrt = x3_distance_to_the_nearest_mrt_station,\n",
    "        num_convenience_stores = x4_number_of_convenience_stores,\n",
    "        neighborhood = as.factor(neighborhood)\n",
    "    ) %>%\n",
    "    select(\n",
    "        y,\n",
    "        house_age,\n",
    "        distance_to_mrt,\n",
    "        num_convenience_stores\n",
    "    ) %>%\n",
    "    ggcorr(label=TRUE)"
   ]
  },
  {
   "cell_type": "markdown",
   "metadata": {},
   "source": [
    "As observed in the above correlation matrix, there exists a collinear relationship between distance to mtr and the number of convenience stores."
   ]
  },
  {
   "cell_type": "markdown",
   "metadata": {},
   "source": [
    "We may now explore the distribution of our response variable $y$ (House price of unit area)"
   ]
  },
  {
   "cell_type": "code",
   "execution_count": null,
   "metadata": {
    "tags": [],
    "vscode": {
     "languageId": "r"
    }
   },
   "outputs": [],
   "source": [
    "df_train %>%\n",
    "    ggplot(aes(x=y_house_price_of_unit_area)) +\n",
    "        geom_histogram() +\n",
    "        xlab(\"House Price\") +\n",
    "        ylab(\"Count\") +\n",
    "        ggtitle(\"Histogram of House Prices\")"
   ]
  },
  {
   "cell_type": "markdown",
   "metadata": {},
   "source": [
    "The data seems to be relatively normally distributed. That being said, there exists an outlier that may be of interest to explore. This outlier has a price that is significantly beyond that of the rest of the data with a house price of unit area at $117.5$.\n",
    "\n",
    "This observation is quite close compared to the mean distance ($\\bar x = 1087.988, x_i = 252.582$)to its nearest mrt station which partially explains its high price. However it is close to only one convenience store (average is 4), this goes against the initial data analysis where a greater number convenience stores suggests a greater expected price. It is important to also note that the grand mean of house prices is $y=38.012$ whereas the mean house price within this house's neighbourhood (5) is 43.418.\n",
    "\n",
    "In a more advanced attempt at this project, stratification and cluster sampling schemes could be employed to obtain a better understanding of the data"
   ]
  },
  {
   "cell_type": "code",
   "execution_count": null,
   "metadata": {
    "tags": [],
    "vscode": {
     "languageId": "r"
    }
   },
   "outputs": [],
   "source": [
    "df_train[df_train$y_house_price_of_unit_area > 100, c(4,5,8,9)]"
   ]
  },
  {
   "cell_type": "code",
   "execution_count": null,
   "metadata": {
    "tags": [],
    "vscode": {
     "languageId": "r"
    }
   },
   "outputs": [],
   "source": [
    "mean(df_train$x3_distance_to_the_nearest_mrt_station)\n",
    "mean(df_train$x4_number_of_convenience_stores)\n",
    "mean(df_train$y_house_price_of_unit_area)\n",
    "mean(df_train[df_train$neighborhood == 5,]$y_house_price_of_unit_area)"
   ]
  },
  {
   "cell_type": "markdown",
   "metadata": {},
   "source": [
    "# Feature Engineering & Model Development"
   ]
  },
  {
   "cell_type": "code",
   "execution_count": null,
   "metadata": {
    "tags": [],
    "vscode": {
     "languageId": "r"
    }
   },
   "outputs": [],
   "source": [
    "# Proximity-based features\n",
    "df_train$distance_to_mrt_category <- cut(df_train$x3_distance_to_the_nearest_mrt_station,\n",
    "                            breaks = c(-Inf, 250, 500, 750, 1000, Inf),\n",
    "                            labels = c(\"under_250m\", \"250m_500m\", \"500m_750m\", \"750m_1000m\", \"over_1000m\"))\n",
    "\n",
    "model_df <- select(df_train, -c(no))"
   ]
  },
  {
   "cell_type": "markdown",
   "metadata": {},
   "source": [
    "## Model Selection"
   ]
  },
  {
   "cell_type": "code",
   "execution_count": null,
   "metadata": {
    "tags": [],
    "vscode": {
     "languageId": "r"
    }
   },
   "outputs": [],
   "source": [
    "s <- regsubsets(y_house_price_of_unit_area ~.-x3_distance_to_the_nearest_mrt_station -x1_transaction_date, data = model_df, method = \"exhaustive\", nvmax = 100)\n",
    "ss <- summary(s)\n",
    "\n",
    "rss <- ss$rss\n",
    "adjr2 <- ss$adjr2\n",
    "bic <- ss$bic\n",
    "\n",
    "variables <- data.frame((ss$which))\n",
    "variables$model <- rownames(variables)\n",
    "rownames(variables) <- 1:nrow(variables)\n",
    "\n",
    "rss <- ss$rss\n",
    "adjr2 <- ss$adjr2\n",
    "bic <- ss$bic\n",
    "\n",
    "output <- cbind(variables, RSS=rss, AdjR2=adjr2, BIC=bic)\n",
    "\n",
    "best_adjr2 <- which.max(output$AdjR2) \n",
    "print(best_adjr2)\n",
    "print(max(output$AdjR2))\n",
    "output %>% slice(best_adjr2)"
   ]
  },
  {
   "cell_type": "markdown",
   "metadata": {},
   "source": [
    "## Interpretation Of The Results"
   ]
  },
  {
   "cell_type": "markdown",
   "metadata": {},
   "source": [
    "## Results Validation\n",
    "### Hypothesis Testing"
   ]
  },
  {
   "cell_type": "code",
   "execution_count": null,
   "metadata": {
    "tags": []
   },
   "outputs": [],
   "source": [
    "model_sum <- summary(reg)\n",
    "p_values<- coef(model_sum)[, \"Pr(>|t|)\"]\n",
    "tidy_p_values <- data.frame(P_Value = p_values)\n",
    "tidy_p_values"
   ]
  },
  {
   "cell_type": "markdown",
   "metadata": {},
   "source": [
    "A low p value (p $\\leq$ 0.05 by default) suggests the variable is statistically significant. In the best model we selected, variables like `x2_house_age`, `distance_to_mrt_category`, `x5_latitude` and the intercept all have p value below 0.05. It indicates that these variables are statistically significant, while `x4_number_of_convenience_stores`, ` x6_longitude` and `neighborhood` are not. Nevertheless, the the model as a whole is significant because the p value of F statistic is far below 0.05. It indicates these selected predictors have effect on the response variable `y_house_price_of_unit_area` collectively.\n",
    "\n",
    "We are not supposed to remove the variables that are less significant (p > 0.05) at this stage because this would consist of using the data to find significant variables. We could not fully trust the inference quantities (Std. Error and t-values) in the re-fitted model. All components of variable selection should be done in the `model_df` data set so that we can have an accurate estimate of the uncertainties in price inference."
   ]
  },
  {
   "cell_type": "code",
   "execution_count": null,
   "metadata": {},
   "outputs": [],
   "source": []
  }
 ],
 "metadata": {
  "kernelspec": {
   "display_name": "R",
   "language": "R",
   "name": "ir"
  },
  "language_info": {
   "codemirror_mode": "r",
   "file_extension": ".r",
   "mimetype": "text/x-r-source",
   "name": "R",
   "pygments_lexer": "r",
   "version": "4.2.3"
  }
 },
 "nbformat": 4,
 "nbformat_minor": 4
}
