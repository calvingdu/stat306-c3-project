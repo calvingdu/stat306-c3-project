{
 "cells": [
  {
   "cell_type": "code",
   "execution_count": 134,
   "metadata": {
    "vscode": {
     "languageId": "r"
    }
   },
   "outputs": [],
   "source": [
    "library(tidyverse)\n",
    "library(janitor)\n",
    "library(leaps)"
   ]
  },
  {
   "cell_type": "markdown",
   "metadata": {},
   "source": [
    "# STAT 306 Group C3 Project"
   ]
  },
  {
   "cell_type": "markdown",
   "metadata": {},
   "source": [
    "# The Data & Goal Analysis"
   ]
  },
  {
   "cell_type": "markdown",
   "metadata": {},
   "source": [
    "The data being explored is the [Real Estate Valuation Data Set](https://archive.ics.uci.edu/dataset/477/real+estate+valuation+data+set) that explores real-estate prices in Sindian Dist., New Taipei City, Taiwan. This data consists of n=414 observations that contain various numerical and time-related features. This data was obtained through UC Irvine Machine Learning Repository."
   ]
  },
  {
   "cell_type": "markdown",
   "metadata": {},
   "source": [
    "The variables we have are: \n",
    "- X1 =  The transaction date in numerical units. For instance, 2013.250 equals March 2013, where the month is depicted as a fraction of the year (3/12 = 0.250) \n",
    "- X2 = The house age in years\n",
    "- X3 = Distance to the nearest MRT station in metres (MRTs are metro transit systems) \n",
    "- X4 = Number of convenience stores in the living circle on foot by count (integer)\n",
    "- X5 = Latitude in degree\n",
    "- X6 = Longitude in degree"
   ]
  },
  {
   "cell_type": "markdown",
   "metadata": {},
   "source": [
    "**The primary objective of this analysis is to determine how the real estate price is influenced by various factors such as house age, proximity to transportation (MRT), convenience store availability, and geographical location.**"
   ]
  },
  {
   "cell_type": "markdown",
   "metadata": {},
   "source": [
    "# Reading In the Data"
   ]
  },
  {
   "cell_type": "code",
   "execution_count": 135,
   "metadata": {
    "vscode": {
     "languageId": "r"
    }
   },
   "outputs": [
    {
     "data": {
      "text/html": [
       "<table class=\"dataframe\">\n",
       "<caption>A tibble: 6 × 8</caption>\n",
       "<thead>\n",
       "\t<tr><th scope=col>no</th><th scope=col>x1_transaction_date</th><th scope=col>x2_house_age</th><th scope=col>x3_distance_to_the_nearest_mrt_station</th><th scope=col>x4_number_of_convenience_stores</th><th scope=col>x5_latitude</th><th scope=col>x6_longitude</th><th scope=col>y_house_price_of_unit_area</th></tr>\n",
       "\t<tr><th scope=col>&lt;dbl&gt;</th><th scope=col>&lt;dbl&gt;</th><th scope=col>&lt;dbl&gt;</th><th scope=col>&lt;dbl&gt;</th><th scope=col>&lt;dbl&gt;</th><th scope=col>&lt;dbl&gt;</th><th scope=col>&lt;dbl&gt;</th><th scope=col>&lt;dbl&gt;</th></tr>\n",
       "</thead>\n",
       "<tbody>\n",
       "\t<tr><td>1</td><td>2012.917</td><td>32.0</td><td>  84.87882</td><td>10</td><td>24.98298</td><td>121.5402</td><td>37.9</td></tr>\n",
       "\t<tr><td>2</td><td>2012.917</td><td>19.5</td><td> 306.59470</td><td> 9</td><td>24.98034</td><td>121.5395</td><td>42.2</td></tr>\n",
       "\t<tr><td>3</td><td>2013.583</td><td>13.3</td><td> 561.98450</td><td> 5</td><td>24.98746</td><td>121.5439</td><td>47.3</td></tr>\n",
       "\t<tr><td>4</td><td>2013.500</td><td>13.3</td><td> 561.98450</td><td> 5</td><td>24.98746</td><td>121.5439</td><td>54.8</td></tr>\n",
       "\t<tr><td>5</td><td>2012.833</td><td> 5.0</td><td> 390.56840</td><td> 5</td><td>24.97937</td><td>121.5425</td><td>43.1</td></tr>\n",
       "\t<tr><td>6</td><td>2012.667</td><td> 7.1</td><td>2175.03000</td><td> 3</td><td>24.96305</td><td>121.5125</td><td>32.1</td></tr>\n",
       "</tbody>\n",
       "</table>\n"
      ],
      "text/latex": [
       "A tibble: 6 × 8\n",
       "\\begin{tabular}{llllllll}\n",
       " no & x1\\_transaction\\_date & x2\\_house\\_age & x3\\_distance\\_to\\_the\\_nearest\\_mrt\\_station & x4\\_number\\_of\\_convenience\\_stores & x5\\_latitude & x6\\_longitude & y\\_house\\_price\\_of\\_unit\\_area\\\\\n",
       " <dbl> & <dbl> & <dbl> & <dbl> & <dbl> & <dbl> & <dbl> & <dbl>\\\\\n",
       "\\hline\n",
       "\t 1 & 2012.917 & 32.0 &   84.87882 & 10 & 24.98298 & 121.5402 & 37.9\\\\\n",
       "\t 2 & 2012.917 & 19.5 &  306.59470 &  9 & 24.98034 & 121.5395 & 42.2\\\\\n",
       "\t 3 & 2013.583 & 13.3 &  561.98450 &  5 & 24.98746 & 121.5439 & 47.3\\\\\n",
       "\t 4 & 2013.500 & 13.3 &  561.98450 &  5 & 24.98746 & 121.5439 & 54.8\\\\\n",
       "\t 5 & 2012.833 &  5.0 &  390.56840 &  5 & 24.97937 & 121.5425 & 43.1\\\\\n",
       "\t 6 & 2012.667 &  7.1 & 2175.03000 &  3 & 24.96305 & 121.5125 & 32.1\\\\\n",
       "\\end{tabular}\n"
      ],
      "text/markdown": [
       "\n",
       "A tibble: 6 × 8\n",
       "\n",
       "| no &lt;dbl&gt; | x1_transaction_date &lt;dbl&gt; | x2_house_age &lt;dbl&gt; | x3_distance_to_the_nearest_mrt_station &lt;dbl&gt; | x4_number_of_convenience_stores &lt;dbl&gt; | x5_latitude &lt;dbl&gt; | x6_longitude &lt;dbl&gt; | y_house_price_of_unit_area &lt;dbl&gt; |\n",
       "|---|---|---|---|---|---|---|---|\n",
       "| 1 | 2012.917 | 32.0 |   84.87882 | 10 | 24.98298 | 121.5402 | 37.9 |\n",
       "| 2 | 2012.917 | 19.5 |  306.59470 |  9 | 24.98034 | 121.5395 | 42.2 |\n",
       "| 3 | 2013.583 | 13.3 |  561.98450 |  5 | 24.98746 | 121.5439 | 47.3 |\n",
       "| 4 | 2013.500 | 13.3 |  561.98450 |  5 | 24.98746 | 121.5439 | 54.8 |\n",
       "| 5 | 2012.833 |  5.0 |  390.56840 |  5 | 24.97937 | 121.5425 | 43.1 |\n",
       "| 6 | 2012.667 |  7.1 | 2175.03000 |  3 | 24.96305 | 121.5125 | 32.1 |\n",
       "\n"
      ],
      "text/plain": [
       "  no x1_transaction_date x2_house_age x3_distance_to_the_nearest_mrt_station\n",
       "1 1  2012.917            32.0           84.87882                            \n",
       "2 2  2012.917            19.5          306.59470                            \n",
       "3 3  2013.583            13.3          561.98450                            \n",
       "4 4  2013.500            13.3          561.98450                            \n",
       "5 5  2012.833             5.0          390.56840                            \n",
       "6 6  2012.667             7.1         2175.03000                            \n",
       "  x4_number_of_convenience_stores x5_latitude x6_longitude\n",
       "1 10                              24.98298    121.5402    \n",
       "2  9                              24.98034    121.5395    \n",
       "3  5                              24.98746    121.5439    \n",
       "4  5                              24.98746    121.5439    \n",
       "5  5                              24.97937    121.5425    \n",
       "6  3                              24.96305    121.5125    \n",
       "  y_house_price_of_unit_area\n",
       "1 37.9                      \n",
       "2 42.2                      \n",
       "3 47.3                      \n",
       "4 54.8                      \n",
       "5 43.1                      \n",
       "6 32.1                      "
      ]
     },
     "metadata": {},
     "output_type": "display_data"
    }
   ],
   "source": [
    "real_estate_data <- clean_names(real_estate_data)\n",
    "head(real_estate_data)"
   ]
  },
  {
   "cell_type": "markdown",
   "metadata": {},
   "source": [
    "# Feature Engineering & Model Development"
   ]
  },
  {
   "cell_type": "code",
   "execution_count": 147,
   "metadata": {
    "vscode": {
     "languageId": "r"
    }
   },
   "outputs": [
    {
     "data": {
      "text/plain": [
       "\n",
       "Call:\n",
       "lm(formula = y_house_price_of_unit_area ~ ., data = model_df)\n",
       "\n",
       "Residuals:\n",
       "    Min      1Q  Median      3Q     Max \n",
       "-34.949  -3.985  -0.520   2.874  70.946 \n",
       "\n",
       "Coefficients:\n",
       "                                         Estimate Std. Error t value Pr(>|t|)\n",
       "(Intercept)                            -3.659e+04  7.557e+03  -4.842 1.84e-06\n",
       "x1_transaction_date                    -2.857e+03  1.471e+03  -1.943 0.052757\n",
       "x2_house_age                           -2.689e-01  3.579e-02  -7.513 3.83e-13\n",
       "x3_distance_to_the_nearest_mrt_station -5.308e-04  7.652e-04  -0.694 0.488254\n",
       "x4_number_of_convenience_stores         3.363e-01  1.931e-01   1.742 0.082344\n",
       "x5_latitude                             2.082e+02  4.654e+01   4.474 1.00e-05\n",
       "x6_longitude                            1.613e+02  5.810e+01   2.776 0.005768\n",
       "year                                    2.863e+03  1.470e+03   1.947 0.052263\n",
       "month                                   2.386e+02  1.226e+02   1.947 0.052260\n",
       "neighborhood                            3.090e+00  9.979e-01   3.096 0.002100\n",
       "distance_to_mrt_category250m_500m      -4.565e+00  1.181e+00  -3.863 0.000130\n",
       "distance_to_mrt_category500m_750m      -6.583e+00  1.681e+00  -3.916 0.000106\n",
       "distance_to_mrt_category750m_1000m     -1.216e+01  2.240e+00  -5.427 9.97e-08\n",
       "distance_to_mrt_categoryover_1000m     -1.845e+01  1.868e+00  -9.877  < 2e-16\n",
       "                                          \n",
       "(Intercept)                            ***\n",
       "x1_transaction_date                    .  \n",
       "x2_house_age                           ***\n",
       "x3_distance_to_the_nearest_mrt_station    \n",
       "x4_number_of_convenience_stores        .  \n",
       "x5_latitude                            ***\n",
       "x6_longitude                           ** \n",
       "year                                   .  \n",
       "month                                  .  \n",
       "neighborhood                           ** \n",
       "distance_to_mrt_category250m_500m      ***\n",
       "distance_to_mrt_category500m_750m      ***\n",
       "distance_to_mrt_category750m_1000m     ***\n",
       "distance_to_mrt_categoryover_1000m     ***\n",
       "---\n",
       "Signif. codes:  0 '***' 0.001 '**' 0.01 '*' 0.05 '.' 0.1 ' ' 1\n",
       "\n",
       "Residual standard error: 7.909 on 400 degrees of freedom\n",
       "Multiple R-squared:  0.6728,\tAdjusted R-squared:  0.6622 \n",
       "F-statistic: 63.27 on 13 and 400 DF,  p-value: < 2.2e-16\n"
      ]
     },
     "metadata": {},
     "output_type": "display_data"
    }
   ],
   "source": [
    "df <- real_estate_data\n",
    "\n",
    "# Time based features\n",
    "df <- df %>%\n",
    "  mutate(year = as.integer(df$x1_transaction_date)) %>%\n",
    "  mutate(month = as.integer(round((x1_transaction_date - year) * 12), 1))\n",
    "\n",
    "# Create location-based features\n",
    "df$neighborhood <- kmeans(df[, c('x5_latitude', 'x6_longitude')], centers = 3)$cluster # Adjust centers as needed\n",
    "\n",
    "# Proximity-based features\n",
    "df$distance_to_mrt_category <- cut(df$x3_distance_to_the_nearest_mrt_station,\n",
    "                            breaks = c(-Inf, 250, 500, 750, 1000, Inf),\n",
    "                            labels = c(\"under_250m\", \"250m_500m\", \"500m_750m\", \"750m_1000m\", \"over_1000m\"))\n",
    "\n",
    "model_df <- select(df, -c(no))\n",
    "model <- lm(y_house_price_of_unit_area ~ ., data = model_df)\n",
    "summary(model)"
   ]
  },
  {
   "cell_type": "markdown",
   "metadata": {},
   "source": [
    "## Model Selection"
   ]
  },
  {
   "cell_type": "code",
   "execution_count": 148,
   "metadata": {
    "vscode": {
     "languageId": "r"
    }
   },
   "outputs": [
    {
     "data": {
      "text/html": [
       "<table class=\"dataframe\">\n",
       "<caption>A data.frame: 13 × 18</caption>\n",
       "<thead>\n",
       "\t<tr><th></th><th scope=col>X.Intercept.</th><th scope=col>x1_transaction_date</th><th scope=col>x2_house_age</th><th scope=col>x3_distance_to_the_nearest_mrt_station</th><th scope=col>x4_number_of_convenience_stores</th><th scope=col>x5_latitude</th><th scope=col>x6_longitude</th><th scope=col>year</th><th scope=col>month</th><th scope=col>neighborhood</th><th scope=col>distance_to_mrt_category250m_500m</th><th scope=col>distance_to_mrt_category500m_750m</th><th scope=col>distance_to_mrt_category750m_1000m</th><th scope=col>distance_to_mrt_categoryover_1000m</th><th scope=col>model</th><th scope=col>RSS</th><th scope=col>AdjR2</th><th scope=col>BIC</th></tr>\n",
       "\t<tr><th></th><th scope=col>&lt;lgl&gt;</th><th scope=col>&lt;lgl&gt;</th><th scope=col>&lt;lgl&gt;</th><th scope=col>&lt;lgl&gt;</th><th scope=col>&lt;lgl&gt;</th><th scope=col>&lt;lgl&gt;</th><th scope=col>&lt;lgl&gt;</th><th scope=col>&lt;lgl&gt;</th><th scope=col>&lt;lgl&gt;</th><th scope=col>&lt;lgl&gt;</th><th scope=col>&lt;lgl&gt;</th><th scope=col>&lt;lgl&gt;</th><th scope=col>&lt;lgl&gt;</th><th scope=col>&lt;lgl&gt;</th><th scope=col>&lt;chr&gt;</th><th scope=col>&lt;dbl&gt;</th><th scope=col>&lt;dbl&gt;</th><th scope=col>&lt;dbl&gt;</th></tr>\n",
       "</thead>\n",
       "<tbody>\n",
       "\t<tr><th scope=row>1</th><td>TRUE</td><td>FALSE</td><td>FALSE</td><td>FALSE</td><td>FALSE</td><td>FALSE</td><td>FALSE</td><td>FALSE</td><td>FALSE</td><td>FALSE</td><td>FALSE</td><td>FALSE</td><td>FALSE</td><td>TRUE</td><td>1 </td><td>39574.66</td><td>0.4811666</td><td>-260.6073</td></tr>\n",
       "\t<tr><th scope=row>2</th><td>TRUE</td><td>FALSE</td><td> TRUE</td><td>FALSE</td><td>FALSE</td><td>FALSE</td><td>FALSE</td><td>FALSE</td><td>FALSE</td><td>FALSE</td><td>FALSE</td><td>FALSE</td><td>FALSE</td><td>TRUE</td><td>2 </td><td>34638.91</td><td>0.5447706</td><td>-309.7310</td></tr>\n",
       "\t<tr><th scope=row>3</th><td>TRUE</td><td>FALSE</td><td> TRUE</td><td>FALSE</td><td>FALSE</td><td> TRUE</td><td>FALSE</td><td>FALSE</td><td>FALSE</td><td>FALSE</td><td>FALSE</td><td>FALSE</td><td>FALSE</td><td>TRUE</td><td>3 </td><td>30909.09</td><td>0.5927977</td><td>-350.8710</td></tr>\n",
       "\t<tr><th scope=row>4</th><td>TRUE</td><td>FALSE</td><td> TRUE</td><td>FALSE</td><td>FALSE</td><td> TRUE</td><td>FALSE</td><td>FALSE</td><td>FALSE</td><td>FALSE</td><td>FALSE</td><td>FALSE</td><td> TRUE</td><td>TRUE</td><td>4 </td><td>28862.63</td><td>0.6188284</td><td>-373.2052</td></tr>\n",
       "\t<tr><th scope=row>5</th><td>TRUE</td><td> TRUE</td><td> TRUE</td><td>FALSE</td><td>FALSE</td><td> TRUE</td><td>FALSE</td><td>FALSE</td><td>FALSE</td><td>FALSE</td><td>FALSE</td><td>FALSE</td><td> TRUE</td><td>TRUE</td><td>5 </td><td>27938.95</td><td>0.6301225</td><td>-380.6450</td></tr>\n",
       "\t<tr><th scope=row>6</th><td>TRUE</td><td> TRUE</td><td> TRUE</td><td>FALSE</td><td> TRUE</td><td> TRUE</td><td>FALSE</td><td>FALSE</td><td>FALSE</td><td>FALSE</td><td>FALSE</td><td>FALSE</td><td> TRUE</td><td>TRUE</td><td>6 </td><td>27223.58</td><td>0.6387077</td><td>-385.3577</td></tr>\n",
       "\t<tr><th scope=row>7</th><td>TRUE</td><td> TRUE</td><td> TRUE</td><td>FALSE</td><td>FALSE</td><td> TRUE</td><td>FALSE</td><td>FALSE</td><td>FALSE</td><td>FALSE</td><td> TRUE</td><td> TRUE</td><td> TRUE</td><td>TRUE</td><td>7 </td><td>26379.54</td><td>0.6490469</td><td>-392.3707</td></tr>\n",
       "\t<tr><th scope=row>8</th><td>TRUE</td><td> TRUE</td><td> TRUE</td><td>FALSE</td><td>FALSE</td><td> TRUE</td><td> TRUE</td><td>FALSE</td><td>FALSE</td><td>FALSE</td><td> TRUE</td><td> TRUE</td><td> TRUE</td><td>TRUE</td><td>8 </td><td>26090.41</td><td>0.6520364</td><td>-390.9074</td></tr>\n",
       "\t<tr><th scope=row>9</th><td>TRUE</td><td> TRUE</td><td> TRUE</td><td>FALSE</td><td>FALSE</td><td> TRUE</td><td> TRUE</td><td>FALSE</td><td>FALSE</td><td> TRUE</td><td> TRUE</td><td> TRUE</td><td> TRUE</td><td>TRUE</td><td>9 </td><td>25438.99</td><td>0.6598845</td><td>-395.3495</td></tr>\n",
       "\t<tr><th scope=row>10</th><td>TRUE</td><td> TRUE</td><td> TRUE</td><td>FALSE</td><td> TRUE</td><td> TRUE</td><td> TRUE</td><td>FALSE</td><td>FALSE</td><td> TRUE</td><td> TRUE</td><td> TRUE</td><td> TRUE</td><td>TRUE</td><td>10</td><td>25285.77</td><td>0.6610942</td><td>-391.8247</td></tr>\n",
       "\t<tr><th scope=row>11</th><td>TRUE</td><td> TRUE</td><td> TRUE</td><td>FALSE</td><td>FALSE</td><td> TRUE</td><td> TRUE</td><td> TRUE</td><td> TRUE</td><td> TRUE</td><td> TRUE</td><td> TRUE</td><td> TRUE</td><td>TRUE</td><td>11</td><td>25245.95</td><td>0.6607861</td><td>-386.4512</td></tr>\n",
       "\t<tr><th scope=row>12</th><td>TRUE</td><td> TRUE</td><td> TRUE</td><td>FALSE</td><td> TRUE</td><td> TRUE</td><td> TRUE</td><td> TRUE</td><td> TRUE</td><td> TRUE</td><td> TRUE</td><td> TRUE</td><td> TRUE</td><td>TRUE</td><td>12</td><td>25048.42</td><td>0.6626009</td><td>-383.6774</td></tr>\n",
       "\t<tr><th scope=row>13</th><td>TRUE</td><td> TRUE</td><td> TRUE</td><td> TRUE</td><td> TRUE</td><td> TRUE</td><td> TRUE</td><td> TRUE</td><td> TRUE</td><td> TRUE</td><td> TRUE</td><td> TRUE</td><td> TRUE</td><td>TRUE</td><td>13</td><td>25018.47</td><td>0.6621619</td><td>-378.1469</td></tr>\n",
       "</tbody>\n",
       "</table>\n"
      ],
      "text/latex": [
       "A data.frame: 13 × 18\n",
       "\\begin{tabular}{r|llllllllllllllllll}\n",
       "  & X.Intercept. & x1\\_transaction\\_date & x2\\_house\\_age & x3\\_distance\\_to\\_the\\_nearest\\_mrt\\_station & x4\\_number\\_of\\_convenience\\_stores & x5\\_latitude & x6\\_longitude & year & month & neighborhood & distance\\_to\\_mrt\\_category250m\\_500m & distance\\_to\\_mrt\\_category500m\\_750m & distance\\_to\\_mrt\\_category750m\\_1000m & distance\\_to\\_mrt\\_categoryover\\_1000m & model & RSS & AdjR2 & BIC\\\\\n",
       "  & <lgl> & <lgl> & <lgl> & <lgl> & <lgl> & <lgl> & <lgl> & <lgl> & <lgl> & <lgl> & <lgl> & <lgl> & <lgl> & <lgl> & <chr> & <dbl> & <dbl> & <dbl>\\\\\n",
       "\\hline\n",
       "\t1 & TRUE & FALSE & FALSE & FALSE & FALSE & FALSE & FALSE & FALSE & FALSE & FALSE & FALSE & FALSE & FALSE & TRUE & 1  & 39574.66 & 0.4811666 & -260.6073\\\\\n",
       "\t2 & TRUE & FALSE &  TRUE & FALSE & FALSE & FALSE & FALSE & FALSE & FALSE & FALSE & FALSE & FALSE & FALSE & TRUE & 2  & 34638.91 & 0.5447706 & -309.7310\\\\\n",
       "\t3 & TRUE & FALSE &  TRUE & FALSE & FALSE &  TRUE & FALSE & FALSE & FALSE & FALSE & FALSE & FALSE & FALSE & TRUE & 3  & 30909.09 & 0.5927977 & -350.8710\\\\\n",
       "\t4 & TRUE & FALSE &  TRUE & FALSE & FALSE &  TRUE & FALSE & FALSE & FALSE & FALSE & FALSE & FALSE &  TRUE & TRUE & 4  & 28862.63 & 0.6188284 & -373.2052\\\\\n",
       "\t5 & TRUE &  TRUE &  TRUE & FALSE & FALSE &  TRUE & FALSE & FALSE & FALSE & FALSE & FALSE & FALSE &  TRUE & TRUE & 5  & 27938.95 & 0.6301225 & -380.6450\\\\\n",
       "\t6 & TRUE &  TRUE &  TRUE & FALSE &  TRUE &  TRUE & FALSE & FALSE & FALSE & FALSE & FALSE & FALSE &  TRUE & TRUE & 6  & 27223.58 & 0.6387077 & -385.3577\\\\\n",
       "\t7 & TRUE &  TRUE &  TRUE & FALSE & FALSE &  TRUE & FALSE & FALSE & FALSE & FALSE &  TRUE &  TRUE &  TRUE & TRUE & 7  & 26379.54 & 0.6490469 & -392.3707\\\\\n",
       "\t8 & TRUE &  TRUE &  TRUE & FALSE & FALSE &  TRUE &  TRUE & FALSE & FALSE & FALSE &  TRUE &  TRUE &  TRUE & TRUE & 8  & 26090.41 & 0.6520364 & -390.9074\\\\\n",
       "\t9 & TRUE &  TRUE &  TRUE & FALSE & FALSE &  TRUE &  TRUE & FALSE & FALSE &  TRUE &  TRUE &  TRUE &  TRUE & TRUE & 9  & 25438.99 & 0.6598845 & -395.3495\\\\\n",
       "\t10 & TRUE &  TRUE &  TRUE & FALSE &  TRUE &  TRUE &  TRUE & FALSE & FALSE &  TRUE &  TRUE &  TRUE &  TRUE & TRUE & 10 & 25285.77 & 0.6610942 & -391.8247\\\\\n",
       "\t11 & TRUE &  TRUE &  TRUE & FALSE & FALSE &  TRUE &  TRUE &  TRUE &  TRUE &  TRUE &  TRUE &  TRUE &  TRUE & TRUE & 11 & 25245.95 & 0.6607861 & -386.4512\\\\\n",
       "\t12 & TRUE &  TRUE &  TRUE & FALSE &  TRUE &  TRUE &  TRUE &  TRUE &  TRUE &  TRUE &  TRUE &  TRUE &  TRUE & TRUE & 12 & 25048.42 & 0.6626009 & -383.6774\\\\\n",
       "\t13 & TRUE &  TRUE &  TRUE &  TRUE &  TRUE &  TRUE &  TRUE &  TRUE &  TRUE &  TRUE &  TRUE &  TRUE &  TRUE & TRUE & 13 & 25018.47 & 0.6621619 & -378.1469\\\\\n",
       "\\end{tabular}\n"
      ],
      "text/markdown": [
       "\n",
       "A data.frame: 13 × 18\n",
       "\n",
       "| <!--/--> | X.Intercept. &lt;lgl&gt; | x1_transaction_date &lt;lgl&gt; | x2_house_age &lt;lgl&gt; | x3_distance_to_the_nearest_mrt_station &lt;lgl&gt; | x4_number_of_convenience_stores &lt;lgl&gt; | x5_latitude &lt;lgl&gt; | x6_longitude &lt;lgl&gt; | year &lt;lgl&gt; | month &lt;lgl&gt; | neighborhood &lt;lgl&gt; | distance_to_mrt_category250m_500m &lt;lgl&gt; | distance_to_mrt_category500m_750m &lt;lgl&gt; | distance_to_mrt_category750m_1000m &lt;lgl&gt; | distance_to_mrt_categoryover_1000m &lt;lgl&gt; | model &lt;chr&gt; | RSS &lt;dbl&gt; | AdjR2 &lt;dbl&gt; | BIC &lt;dbl&gt; |\n",
       "|---|---|---|---|---|---|---|---|---|---|---|---|---|---|---|---|---|---|---|\n",
       "| 1 | TRUE | FALSE | FALSE | FALSE | FALSE | FALSE | FALSE | FALSE | FALSE | FALSE | FALSE | FALSE | FALSE | TRUE | 1  | 39574.66 | 0.4811666 | -260.6073 |\n",
       "| 2 | TRUE | FALSE |  TRUE | FALSE | FALSE | FALSE | FALSE | FALSE | FALSE | FALSE | FALSE | FALSE | FALSE | TRUE | 2  | 34638.91 | 0.5447706 | -309.7310 |\n",
       "| 3 | TRUE | FALSE |  TRUE | FALSE | FALSE |  TRUE | FALSE | FALSE | FALSE | FALSE | FALSE | FALSE | FALSE | TRUE | 3  | 30909.09 | 0.5927977 | -350.8710 |\n",
       "| 4 | TRUE | FALSE |  TRUE | FALSE | FALSE |  TRUE | FALSE | FALSE | FALSE | FALSE | FALSE | FALSE |  TRUE | TRUE | 4  | 28862.63 | 0.6188284 | -373.2052 |\n",
       "| 5 | TRUE |  TRUE |  TRUE | FALSE | FALSE |  TRUE | FALSE | FALSE | FALSE | FALSE | FALSE | FALSE |  TRUE | TRUE | 5  | 27938.95 | 0.6301225 | -380.6450 |\n",
       "| 6 | TRUE |  TRUE |  TRUE | FALSE |  TRUE |  TRUE | FALSE | FALSE | FALSE | FALSE | FALSE | FALSE |  TRUE | TRUE | 6  | 27223.58 | 0.6387077 | -385.3577 |\n",
       "| 7 | TRUE |  TRUE |  TRUE | FALSE | FALSE |  TRUE | FALSE | FALSE | FALSE | FALSE |  TRUE |  TRUE |  TRUE | TRUE | 7  | 26379.54 | 0.6490469 | -392.3707 |\n",
       "| 8 | TRUE |  TRUE |  TRUE | FALSE | FALSE |  TRUE |  TRUE | FALSE | FALSE | FALSE |  TRUE |  TRUE |  TRUE | TRUE | 8  | 26090.41 | 0.6520364 | -390.9074 |\n",
       "| 9 | TRUE |  TRUE |  TRUE | FALSE | FALSE |  TRUE |  TRUE | FALSE | FALSE |  TRUE |  TRUE |  TRUE |  TRUE | TRUE | 9  | 25438.99 | 0.6598845 | -395.3495 |\n",
       "| 10 | TRUE |  TRUE |  TRUE | FALSE |  TRUE |  TRUE |  TRUE | FALSE | FALSE |  TRUE |  TRUE |  TRUE |  TRUE | TRUE | 10 | 25285.77 | 0.6610942 | -391.8247 |\n",
       "| 11 | TRUE |  TRUE |  TRUE | FALSE | FALSE |  TRUE |  TRUE |  TRUE |  TRUE |  TRUE |  TRUE |  TRUE |  TRUE | TRUE | 11 | 25245.95 | 0.6607861 | -386.4512 |\n",
       "| 12 | TRUE |  TRUE |  TRUE | FALSE |  TRUE |  TRUE |  TRUE |  TRUE |  TRUE |  TRUE |  TRUE |  TRUE |  TRUE | TRUE | 12 | 25048.42 | 0.6626009 | -383.6774 |\n",
       "| 13 | TRUE |  TRUE |  TRUE |  TRUE |  TRUE |  TRUE |  TRUE |  TRUE |  TRUE |  TRUE |  TRUE |  TRUE |  TRUE | TRUE | 13 | 25018.47 | 0.6621619 | -378.1469 |\n",
       "\n"
      ],
      "text/plain": [
       "   X.Intercept. x1_transaction_date x2_house_age\n",
       "1  TRUE         FALSE               FALSE       \n",
       "2  TRUE         FALSE                TRUE       \n",
       "3  TRUE         FALSE                TRUE       \n",
       "4  TRUE         FALSE                TRUE       \n",
       "5  TRUE          TRUE                TRUE       \n",
       "6  TRUE          TRUE                TRUE       \n",
       "7  TRUE          TRUE                TRUE       \n",
       "8  TRUE          TRUE                TRUE       \n",
       "9  TRUE          TRUE                TRUE       \n",
       "10 TRUE          TRUE                TRUE       \n",
       "11 TRUE          TRUE                TRUE       \n",
       "12 TRUE          TRUE                TRUE       \n",
       "13 TRUE          TRUE                TRUE       \n",
       "   x3_distance_to_the_nearest_mrt_station x4_number_of_convenience_stores\n",
       "1  FALSE                                  FALSE                          \n",
       "2  FALSE                                  FALSE                          \n",
       "3  FALSE                                  FALSE                          \n",
       "4  FALSE                                  FALSE                          \n",
       "5  FALSE                                  FALSE                          \n",
       "6  FALSE                                   TRUE                          \n",
       "7  FALSE                                  FALSE                          \n",
       "8  FALSE                                  FALSE                          \n",
       "9  FALSE                                  FALSE                          \n",
       "10 FALSE                                   TRUE                          \n",
       "11 FALSE                                  FALSE                          \n",
       "12 FALSE                                   TRUE                          \n",
       "13  TRUE                                   TRUE                          \n",
       "   x5_latitude x6_longitude year  month neighborhood\n",
       "1  FALSE       FALSE        FALSE FALSE FALSE       \n",
       "2  FALSE       FALSE        FALSE FALSE FALSE       \n",
       "3   TRUE       FALSE        FALSE FALSE FALSE       \n",
       "4   TRUE       FALSE        FALSE FALSE FALSE       \n",
       "5   TRUE       FALSE        FALSE FALSE FALSE       \n",
       "6   TRUE       FALSE        FALSE FALSE FALSE       \n",
       "7   TRUE       FALSE        FALSE FALSE FALSE       \n",
       "8   TRUE        TRUE        FALSE FALSE FALSE       \n",
       "9   TRUE        TRUE        FALSE FALSE  TRUE       \n",
       "10  TRUE        TRUE        FALSE FALSE  TRUE       \n",
       "11  TRUE        TRUE         TRUE  TRUE  TRUE       \n",
       "12  TRUE        TRUE         TRUE  TRUE  TRUE       \n",
       "13  TRUE        TRUE         TRUE  TRUE  TRUE       \n",
       "   distance_to_mrt_category250m_500m distance_to_mrt_category500m_750m\n",
       "1  FALSE                             FALSE                            \n",
       "2  FALSE                             FALSE                            \n",
       "3  FALSE                             FALSE                            \n",
       "4  FALSE                             FALSE                            \n",
       "5  FALSE                             FALSE                            \n",
       "6  FALSE                             FALSE                            \n",
       "7   TRUE                              TRUE                            \n",
       "8   TRUE                              TRUE                            \n",
       "9   TRUE                              TRUE                            \n",
       "10  TRUE                              TRUE                            \n",
       "11  TRUE                              TRUE                            \n",
       "12  TRUE                              TRUE                            \n",
       "13  TRUE                              TRUE                            \n",
       "   distance_to_mrt_category750m_1000m distance_to_mrt_categoryover_1000m model\n",
       "1  FALSE                              TRUE                               1    \n",
       "2  FALSE                              TRUE                               2    \n",
       "3  FALSE                              TRUE                               3    \n",
       "4   TRUE                              TRUE                               4    \n",
       "5   TRUE                              TRUE                               5    \n",
       "6   TRUE                              TRUE                               6    \n",
       "7   TRUE                              TRUE                               7    \n",
       "8   TRUE                              TRUE                               8    \n",
       "9   TRUE                              TRUE                               9    \n",
       "10  TRUE                              TRUE                               10   \n",
       "11  TRUE                              TRUE                               11   \n",
       "12  TRUE                              TRUE                               12   \n",
       "13  TRUE                              TRUE                               13   \n",
       "   RSS      AdjR2     BIC      \n",
       "1  39574.66 0.4811666 -260.6073\n",
       "2  34638.91 0.5447706 -309.7310\n",
       "3  30909.09 0.5927977 -350.8710\n",
       "4  28862.63 0.6188284 -373.2052\n",
       "5  27938.95 0.6301225 -380.6450\n",
       "6  27223.58 0.6387077 -385.3577\n",
       "7  26379.54 0.6490469 -392.3707\n",
       "8  26090.41 0.6520364 -390.9074\n",
       "9  25438.99 0.6598845 -395.3495\n",
       "10 25285.77 0.6610942 -391.8247\n",
       "11 25245.95 0.6607861 -386.4512\n",
       "12 25048.42 0.6626009 -383.6774\n",
       "13 25018.47 0.6621619 -378.1469"
      ]
     },
     "metadata": {},
     "output_type": "display_data"
    }
   ],
   "source": [
    "s <- regsubsets(y_house_price_of_unit_area ~., data = model_df, method = \"exhaustive\", nvmax = 100)\n",
    "ss <- summary(s)\n",
    "\n",
    "rss <- ss$rss\n",
    "adjr2 <- ss$adjr2\n",
    "bic <- ss$bic\n",
    "\n",
    "variables <- data.frame((ss$which))\n",
    "variables$model <- rownames(variables)\n",
    "rownames(variables) <- 1:nrow(variables)\n",
    "\n",
    "rss <- ss$rss\n",
    "adjr2 <- ss$adjr2\n",
    "bic <- ss$bic\n",
    "\n",
    "output <- cbind(variables, RSS=rss, AdjR2=adjr2, BIC=bic)\n",
    "output"
   ]
  },
  {
   "cell_type": "code",
   "execution_count": 149,
   "metadata": {
    "vscode": {
     "languageId": "r"
    }
   },
   "outputs": [
    {
     "name": "stdout",
     "output_type": "stream",
     "text": [
      "[1] 12\n"
     ]
    },
    {
     "data": {
      "text/html": [
       "<table class=\"dataframe\">\n",
       "<caption>A data.frame: 1 × 18</caption>\n",
       "<thead>\n",
       "\t<tr><th scope=col>X.Intercept.</th><th scope=col>x1_transaction_date</th><th scope=col>x2_house_age</th><th scope=col>x3_distance_to_the_nearest_mrt_station</th><th scope=col>x4_number_of_convenience_stores</th><th scope=col>x5_latitude</th><th scope=col>x6_longitude</th><th scope=col>year</th><th scope=col>month</th><th scope=col>neighborhood</th><th scope=col>distance_to_mrt_category250m_500m</th><th scope=col>distance_to_mrt_category500m_750m</th><th scope=col>distance_to_mrt_category750m_1000m</th><th scope=col>distance_to_mrt_categoryover_1000m</th><th scope=col>model</th><th scope=col>RSS</th><th scope=col>AdjR2</th><th scope=col>BIC</th></tr>\n",
       "\t<tr><th scope=col>&lt;lgl&gt;</th><th scope=col>&lt;lgl&gt;</th><th scope=col>&lt;lgl&gt;</th><th scope=col>&lt;lgl&gt;</th><th scope=col>&lt;lgl&gt;</th><th scope=col>&lt;lgl&gt;</th><th scope=col>&lt;lgl&gt;</th><th scope=col>&lt;lgl&gt;</th><th scope=col>&lt;lgl&gt;</th><th scope=col>&lt;lgl&gt;</th><th scope=col>&lt;lgl&gt;</th><th scope=col>&lt;lgl&gt;</th><th scope=col>&lt;lgl&gt;</th><th scope=col>&lt;lgl&gt;</th><th scope=col>&lt;chr&gt;</th><th scope=col>&lt;dbl&gt;</th><th scope=col>&lt;dbl&gt;</th><th scope=col>&lt;dbl&gt;</th></tr>\n",
       "</thead>\n",
       "<tbody>\n",
       "\t<tr><td>TRUE</td><td>TRUE</td><td>TRUE</td><td>FALSE</td><td>TRUE</td><td>TRUE</td><td>TRUE</td><td>TRUE</td><td>TRUE</td><td>TRUE</td><td>TRUE</td><td>TRUE</td><td>TRUE</td><td>TRUE</td><td>12</td><td>25048.42</td><td>0.6626009</td><td>-383.6774</td></tr>\n",
       "</tbody>\n",
       "</table>\n"
      ],
      "text/latex": [
       "A data.frame: 1 × 18\n",
       "\\begin{tabular}{llllllllllllllllll}\n",
       " X.Intercept. & x1\\_transaction\\_date & x2\\_house\\_age & x3\\_distance\\_to\\_the\\_nearest\\_mrt\\_station & x4\\_number\\_of\\_convenience\\_stores & x5\\_latitude & x6\\_longitude & year & month & neighborhood & distance\\_to\\_mrt\\_category250m\\_500m & distance\\_to\\_mrt\\_category500m\\_750m & distance\\_to\\_mrt\\_category750m\\_1000m & distance\\_to\\_mrt\\_categoryover\\_1000m & model & RSS & AdjR2 & BIC\\\\\n",
       " <lgl> & <lgl> & <lgl> & <lgl> & <lgl> & <lgl> & <lgl> & <lgl> & <lgl> & <lgl> & <lgl> & <lgl> & <lgl> & <lgl> & <chr> & <dbl> & <dbl> & <dbl>\\\\\n",
       "\\hline\n",
       "\t TRUE & TRUE & TRUE & FALSE & TRUE & TRUE & TRUE & TRUE & TRUE & TRUE & TRUE & TRUE & TRUE & TRUE & 12 & 25048.42 & 0.6626009 & -383.6774\\\\\n",
       "\\end{tabular}\n"
      ],
      "text/markdown": [
       "\n",
       "A data.frame: 1 × 18\n",
       "\n",
       "| X.Intercept. &lt;lgl&gt; | x1_transaction_date &lt;lgl&gt; | x2_house_age &lt;lgl&gt; | x3_distance_to_the_nearest_mrt_station &lt;lgl&gt; | x4_number_of_convenience_stores &lt;lgl&gt; | x5_latitude &lt;lgl&gt; | x6_longitude &lt;lgl&gt; | year &lt;lgl&gt; | month &lt;lgl&gt; | neighborhood &lt;lgl&gt; | distance_to_mrt_category250m_500m &lt;lgl&gt; | distance_to_mrt_category500m_750m &lt;lgl&gt; | distance_to_mrt_category750m_1000m &lt;lgl&gt; | distance_to_mrt_categoryover_1000m &lt;lgl&gt; | model &lt;chr&gt; | RSS &lt;dbl&gt; | AdjR2 &lt;dbl&gt; | BIC &lt;dbl&gt; |\n",
       "|---|---|---|---|---|---|---|---|---|---|---|---|---|---|---|---|---|---|\n",
       "| TRUE | TRUE | TRUE | FALSE | TRUE | TRUE | TRUE | TRUE | TRUE | TRUE | TRUE | TRUE | TRUE | TRUE | 12 | 25048.42 | 0.6626009 | -383.6774 |\n",
       "\n"
      ],
      "text/plain": [
       "  X.Intercept. x1_transaction_date x2_house_age\n",
       "1 TRUE         TRUE                TRUE        \n",
       "  x3_distance_to_the_nearest_mrt_station x4_number_of_convenience_stores\n",
       "1 FALSE                                  TRUE                           \n",
       "  x5_latitude x6_longitude year month neighborhood\n",
       "1 TRUE        TRUE         TRUE TRUE  TRUE        \n",
       "  distance_to_mrt_category250m_500m distance_to_mrt_category500m_750m\n",
       "1 TRUE                              TRUE                             \n",
       "  distance_to_mrt_category750m_1000m distance_to_mrt_categoryover_1000m model\n",
       "1 TRUE                               TRUE                               12   \n",
       "  RSS      AdjR2     BIC      \n",
       "1 25048.42 0.6626009 -383.6774"
      ]
     },
     "metadata": {},
     "output_type": "display_data"
    }
   ],
   "source": [
    "best_adjr2 <- which.max(output$AdjR2) \n",
    "print(best_adjr2)\n",
    "output %>% slice(best_adjr2)"
   ]
  },
  {
   "cell_type": "markdown",
   "metadata": {},
   "source": [
    "## Interpretation Of The Results"
   ]
  }
 ],
 "metadata": {
  "kernelspec": {
   "display_name": "R",
   "language": "R",
   "name": "ir"
  },
  "language_info": {
   "codemirror_mode": "r",
   "file_extension": ".r",
   "mimetype": "text/x-r-source",
   "name": "R",
   "pygments_lexer": "r",
   "version": "4.3.1"
  }
 },
 "nbformat": 4,
 "nbformat_minor": 2
}
