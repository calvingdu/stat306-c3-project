{
 "cells": [
  {
   "cell_type": "code",
   "execution_count": 255,
   "metadata": {
    "vscode": {
     "languageId": "r"
    }
   },
   "outputs": [],
   "source": [
    "library(tidyverse)\n",
    "library(tidymodels)\n",
    "library(janitor)\n",
    "library(leaps)"
   ]
  },
  {
   "cell_type": "markdown",
   "metadata": {},
   "source": [
    "# STAT 306 Group C3 Project"
   ]
  },
  {
   "cell_type": "markdown",
   "metadata": {},
   "source": [
    "# The Data & Goal Analysis"
   ]
  },
  {
   "cell_type": "markdown",
   "metadata": {},
   "source": [
    "The data being explored is the [Real Estate Valuation Data Set](https://archive.ics.uci.edu/dataset/477/real+estate+valuation+data+set) that explores real-estate prices in Sindian Dist., New Taipei City, Taiwan. This data consists of n=414 observations that contain various numerical and time-related features. This data was obtained through UC Irvine Machine Learning Repository."
   ]
  },
  {
   "cell_type": "markdown",
   "metadata": {},
   "source": [
    "The variables we have are: \n",
    "- X1 =  The transaction date in numerical units. For instance, 2013.250 equals March 2013, where the month is depicted as a fraction of the year (3/12 = 0.250) \n",
    "- X2 = The house age in years\n",
    "- X3 = Distance to the nearest MRT station in metres (MRTs are metro transit systems) \n",
    "- X4 = Number of convenience stores in the living circle on foot by count (integer)\n",
    "- X5 = Latitude in degree\n",
    "- X6 = Longitude in degree"
   ]
  },
  {
   "cell_type": "markdown",
   "metadata": {},
   "source": [
    "**The primary objective of this analysis is to determine how the real estate price is influenced by various factors such as house age, proximity to transportation (MRT), convenience store availability, and geographical location.**"
   ]
  },
  {
   "cell_type": "markdown",
   "metadata": {},
   "source": [
    "# Reading In the Data"
   ]
  },
  {
   "cell_type": "code",
   "execution_count": 256,
   "metadata": {
    "vscode": {
     "languageId": "r"
    }
   },
   "outputs": [
    {
     "data": {
      "text/html": [
       "<table class=\"dataframe\">\n",
       "<caption>A tibble: 6 × 8</caption>\n",
       "<thead>\n",
       "\t<tr><th scope=col>no</th><th scope=col>x1_transaction_date</th><th scope=col>x2_house_age</th><th scope=col>x3_distance_to_the_nearest_mrt_station</th><th scope=col>x4_number_of_convenience_stores</th><th scope=col>x5_latitude</th><th scope=col>x6_longitude</th><th scope=col>y_house_price_of_unit_area</th></tr>\n",
       "\t<tr><th scope=col>&lt;dbl&gt;</th><th scope=col>&lt;dbl&gt;</th><th scope=col>&lt;dbl&gt;</th><th scope=col>&lt;dbl&gt;</th><th scope=col>&lt;dbl&gt;</th><th scope=col>&lt;dbl&gt;</th><th scope=col>&lt;dbl&gt;</th><th scope=col>&lt;dbl&gt;</th></tr>\n",
       "</thead>\n",
       "<tbody>\n",
       "\t<tr><td>1</td><td>2012.917</td><td>32.0</td><td>  84.87882</td><td>10</td><td>24.98298</td><td>121.5402</td><td>37.9</td></tr>\n",
       "\t<tr><td>2</td><td>2012.917</td><td>19.5</td><td> 306.59470</td><td> 9</td><td>24.98034</td><td>121.5395</td><td>42.2</td></tr>\n",
       "\t<tr><td>3</td><td>2013.583</td><td>13.3</td><td> 561.98450</td><td> 5</td><td>24.98746</td><td>121.5439</td><td>47.3</td></tr>\n",
       "\t<tr><td>4</td><td>2013.500</td><td>13.3</td><td> 561.98450</td><td> 5</td><td>24.98746</td><td>121.5439</td><td>54.8</td></tr>\n",
       "\t<tr><td>5</td><td>2012.833</td><td> 5.0</td><td> 390.56840</td><td> 5</td><td>24.97937</td><td>121.5425</td><td>43.1</td></tr>\n",
       "\t<tr><td>6</td><td>2012.667</td><td> 7.1</td><td>2175.03000</td><td> 3</td><td>24.96305</td><td>121.5125</td><td>32.1</td></tr>\n",
       "</tbody>\n",
       "</table>\n"
      ],
      "text/latex": [
       "A tibble: 6 × 8\n",
       "\\begin{tabular}{llllllll}\n",
       " no & x1\\_transaction\\_date & x2\\_house\\_age & x3\\_distance\\_to\\_the\\_nearest\\_mrt\\_station & x4\\_number\\_of\\_convenience\\_stores & x5\\_latitude & x6\\_longitude & y\\_house\\_price\\_of\\_unit\\_area\\\\\n",
       " <dbl> & <dbl> & <dbl> & <dbl> & <dbl> & <dbl> & <dbl> & <dbl>\\\\\n",
       "\\hline\n",
       "\t 1 & 2012.917 & 32.0 &   84.87882 & 10 & 24.98298 & 121.5402 & 37.9\\\\\n",
       "\t 2 & 2012.917 & 19.5 &  306.59470 &  9 & 24.98034 & 121.5395 & 42.2\\\\\n",
       "\t 3 & 2013.583 & 13.3 &  561.98450 &  5 & 24.98746 & 121.5439 & 47.3\\\\\n",
       "\t 4 & 2013.500 & 13.3 &  561.98450 &  5 & 24.98746 & 121.5439 & 54.8\\\\\n",
       "\t 5 & 2012.833 &  5.0 &  390.56840 &  5 & 24.97937 & 121.5425 & 43.1\\\\\n",
       "\t 6 & 2012.667 &  7.1 & 2175.03000 &  3 & 24.96305 & 121.5125 & 32.1\\\\\n",
       "\\end{tabular}\n"
      ],
      "text/markdown": [
       "\n",
       "A tibble: 6 × 8\n",
       "\n",
       "| no &lt;dbl&gt; | x1_transaction_date &lt;dbl&gt; | x2_house_age &lt;dbl&gt; | x3_distance_to_the_nearest_mrt_station &lt;dbl&gt; | x4_number_of_convenience_stores &lt;dbl&gt; | x5_latitude &lt;dbl&gt; | x6_longitude &lt;dbl&gt; | y_house_price_of_unit_area &lt;dbl&gt; |\n",
       "|---|---|---|---|---|---|---|---|\n",
       "| 1 | 2012.917 | 32.0 |   84.87882 | 10 | 24.98298 | 121.5402 | 37.9 |\n",
       "| 2 | 2012.917 | 19.5 |  306.59470 |  9 | 24.98034 | 121.5395 | 42.2 |\n",
       "| 3 | 2013.583 | 13.3 |  561.98450 |  5 | 24.98746 | 121.5439 | 47.3 |\n",
       "| 4 | 2013.500 | 13.3 |  561.98450 |  5 | 24.98746 | 121.5439 | 54.8 |\n",
       "| 5 | 2012.833 |  5.0 |  390.56840 |  5 | 24.97937 | 121.5425 | 43.1 |\n",
       "| 6 | 2012.667 |  7.1 | 2175.03000 |  3 | 24.96305 | 121.5125 | 32.1 |\n",
       "\n"
      ],
      "text/plain": [
       "  no x1_transaction_date x2_house_age x3_distance_to_the_nearest_mrt_station\n",
       "1 1  2012.917            32.0           84.87882                            \n",
       "2 2  2012.917            19.5          306.59470                            \n",
       "3 3  2013.583            13.3          561.98450                            \n",
       "4 4  2013.500            13.3          561.98450                            \n",
       "5 5  2012.833             5.0          390.56840                            \n",
       "6 6  2012.667             7.1         2175.03000                            \n",
       "  x4_number_of_convenience_stores x5_latitude x6_longitude\n",
       "1 10                              24.98298    121.5402    \n",
       "2  9                              24.98034    121.5395    \n",
       "3  5                              24.98746    121.5439    \n",
       "4  5                              24.98746    121.5439    \n",
       "5  5                              24.97937    121.5425    \n",
       "6  3                              24.96305    121.5125    \n",
       "  y_house_price_of_unit_area\n",
       "1 37.9                      \n",
       "2 42.2                      \n",
       "3 47.3                      \n",
       "4 54.8                      \n",
       "5 43.1                      \n",
       "6 32.1                      "
      ]
     },
     "metadata": {},
     "output_type": "display_data"
    }
   ],
   "source": [
    "real_estate_data <- clean_names(real_estate_data)\n",
    "head(real_estate_data)\n",
    "\n",
    "df_split <- initial_split(real_estate_data, prop = 0.8, strata = y_house_price_of_unit_area)\n",
    "df_train <- training(df_split)\n",
    "df_test <- testing(df_split)"
   ]
  },
  {
   "cell_type": "markdown",
   "metadata": {},
   "source": [
    "# Feature Engineering & Model Development"
   ]
  },
  {
   "cell_type": "code",
   "execution_count": 257,
   "metadata": {
    "vscode": {
     "languageId": "r"
    }
   },
   "outputs": [],
   "source": [
    "# Time based features\n",
    "df_train <- df_train %>%\n",
    "  mutate(year = as.integer(x1_transaction_date)) %>%\n",
    "  mutate(month = as.integer(round((x1_transaction_date - year) * 12), 1))\n",
    "\n",
    "# Create location-based features\n",
    "df_train$neighborhood <- kmeans(df_train[, c('x5_latitude', 'x6_longitude')], centers = 5)$cluster \n",
    "\n",
    "# Proximity-based features\n",
    "df_train$distance_to_mrt_category <- cut(df_train$x3_distance_to_the_nearest_mrt_station,\n",
    "                            breaks = c(-Inf, 250, 500, 750, 1000, Inf),\n",
    "                            labels = c(\"under_250m\", \"250m_500m\", \"500m_750m\", \"750m_1000m\", \"over_1000m\"))\n",
    "\n",
    "model_df <- select(df_train, -c(no))"
   ]
  },
  {
   "cell_type": "markdown",
   "metadata": {},
   "source": [
    "## Model Selection"
   ]
  },
  {
   "cell_type": "code",
   "execution_count": 270,
   "metadata": {
    "vscode": {
     "languageId": "r"
    }
   },
   "outputs": [
    {
     "name": "stdout",
     "output_type": "stream",
     "text": [
      "[1] 12\n",
      "[1] 0.6749975\n"
     ]
    },
    {
     "data": {
      "text/html": [
       "<table class=\"dataframe\">\n",
       "<caption>A data.frame: 1 × 18</caption>\n",
       "<thead>\n",
       "\t<tr><th scope=col>X.Intercept.</th><th scope=col>x1_transaction_date</th><th scope=col>x2_house_age</th><th scope=col>x3_distance_to_the_nearest_mrt_station</th><th scope=col>x4_number_of_convenience_stores</th><th scope=col>x5_latitude</th><th scope=col>x6_longitude</th><th scope=col>year</th><th scope=col>month</th><th scope=col>neighborhood</th><th scope=col>distance_to_mrt_category250m_500m</th><th scope=col>distance_to_mrt_category500m_750m</th><th scope=col>distance_to_mrt_category750m_1000m</th><th scope=col>distance_to_mrt_categoryover_1000m</th><th scope=col>model</th><th scope=col>RSS</th><th scope=col>AdjR2</th><th scope=col>BIC</th></tr>\n",
       "\t<tr><th scope=col>&lt;lgl&gt;</th><th scope=col>&lt;lgl&gt;</th><th scope=col>&lt;lgl&gt;</th><th scope=col>&lt;lgl&gt;</th><th scope=col>&lt;lgl&gt;</th><th scope=col>&lt;lgl&gt;</th><th scope=col>&lt;lgl&gt;</th><th scope=col>&lt;lgl&gt;</th><th scope=col>&lt;lgl&gt;</th><th scope=col>&lt;lgl&gt;</th><th scope=col>&lt;lgl&gt;</th><th scope=col>&lt;lgl&gt;</th><th scope=col>&lt;lgl&gt;</th><th scope=col>&lt;lgl&gt;</th><th scope=col>&lt;chr&gt;</th><th scope=col>&lt;dbl&gt;</th><th scope=col>&lt;dbl&gt;</th><th scope=col>&lt;dbl&gt;</th></tr>\n",
       "</thead>\n",
       "<tbody>\n",
       "\t<tr><td>TRUE</td><td>TRUE</td><td>TRUE</td><td>FALSE</td><td>TRUE</td><td>TRUE</td><td>TRUE</td><td>TRUE</td><td>TRUE</td><td>TRUE</td><td>TRUE</td><td>TRUE</td><td>TRUE</td><td>TRUE</td><td>12</td><td>17561.19</td><td>0.6749975</td><td>-306.684</td></tr>\n",
       "</tbody>\n",
       "</table>\n"
      ],
      "text/latex": [
       "A data.frame: 1 × 18\n",
       "\\begin{tabular}{llllllllllllllllll}\n",
       " X.Intercept. & x1\\_transaction\\_date & x2\\_house\\_age & x3\\_distance\\_to\\_the\\_nearest\\_mrt\\_station & x4\\_number\\_of\\_convenience\\_stores & x5\\_latitude & x6\\_longitude & year & month & neighborhood & distance\\_to\\_mrt\\_category250m\\_500m & distance\\_to\\_mrt\\_category500m\\_750m & distance\\_to\\_mrt\\_category750m\\_1000m & distance\\_to\\_mrt\\_categoryover\\_1000m & model & RSS & AdjR2 & BIC\\\\\n",
       " <lgl> & <lgl> & <lgl> & <lgl> & <lgl> & <lgl> & <lgl> & <lgl> & <lgl> & <lgl> & <lgl> & <lgl> & <lgl> & <lgl> & <chr> & <dbl> & <dbl> & <dbl>\\\\\n",
       "\\hline\n",
       "\t TRUE & TRUE & TRUE & FALSE & TRUE & TRUE & TRUE & TRUE & TRUE & TRUE & TRUE & TRUE & TRUE & TRUE & 12 & 17561.19 & 0.6749975 & -306.684\\\\\n",
       "\\end{tabular}\n"
      ],
      "text/markdown": [
       "\n",
       "A data.frame: 1 × 18\n",
       "\n",
       "| X.Intercept. &lt;lgl&gt; | x1_transaction_date &lt;lgl&gt; | x2_house_age &lt;lgl&gt; | x3_distance_to_the_nearest_mrt_station &lt;lgl&gt; | x4_number_of_convenience_stores &lt;lgl&gt; | x5_latitude &lt;lgl&gt; | x6_longitude &lt;lgl&gt; | year &lt;lgl&gt; | month &lt;lgl&gt; | neighborhood &lt;lgl&gt; | distance_to_mrt_category250m_500m &lt;lgl&gt; | distance_to_mrt_category500m_750m &lt;lgl&gt; | distance_to_mrt_category750m_1000m &lt;lgl&gt; | distance_to_mrt_categoryover_1000m &lt;lgl&gt; | model &lt;chr&gt; | RSS &lt;dbl&gt; | AdjR2 &lt;dbl&gt; | BIC &lt;dbl&gt; |\n",
       "|---|---|---|---|---|---|---|---|---|---|---|---|---|---|---|---|---|---|\n",
       "| TRUE | TRUE | TRUE | FALSE | TRUE | TRUE | TRUE | TRUE | TRUE | TRUE | TRUE | TRUE | TRUE | TRUE | 12 | 17561.19 | 0.6749975 | -306.684 |\n",
       "\n"
      ],
      "text/plain": [
       "  X.Intercept. x1_transaction_date x2_house_age\n",
       "1 TRUE         TRUE                TRUE        \n",
       "  x3_distance_to_the_nearest_mrt_station x4_number_of_convenience_stores\n",
       "1 FALSE                                  TRUE                           \n",
       "  x5_latitude x6_longitude year month neighborhood\n",
       "1 TRUE        TRUE         TRUE TRUE  TRUE        \n",
       "  distance_to_mrt_category250m_500m distance_to_mrt_category500m_750m\n",
       "1 TRUE                              TRUE                             \n",
       "  distance_to_mrt_category750m_1000m distance_to_mrt_categoryover_1000m model\n",
       "1 TRUE                               TRUE                               12   \n",
       "  RSS      AdjR2     BIC     \n",
       "1 17561.19 0.6749975 -306.684"
      ]
     },
     "metadata": {},
     "output_type": "display_data"
    }
   ],
   "source": [
    "s <- regsubsets(y_house_price_of_unit_area ~., data = model_df, method = \"exhaustive\", nvmax = 100)\n",
    "ss <- summary(s)\n",
    "\n",
    "rss <- ss$rss\n",
    "adjr2 <- ss$adjr2\n",
    "bic <- ss$bic\n",
    "\n",
    "variables <- data.frame((ss$which))\n",
    "variables$model <- rownames(variables)\n",
    "rownames(variables) <- 1:nrow(variables)\n",
    "\n",
    "rss <- ss$rss\n",
    "adjr2 <- ss$adjr2\n",
    "bic <- ss$bic\n",
    "\n",
    "output <- cbind(variables, RSS=rss, AdjR2=adjr2, BIC=bic)\n",
    "\n",
    "best_adjr2 <- which.max(output$AdjR2) \n",
    "print(best_adjr2)\n",
    "print(max(output$AdjR2))\n",
    "output %>% slice(best_adjr2)"
   ]
  },
  {
   "cell_type": "markdown",
   "metadata": {},
   "source": [
    "## Interpretation Of The Results"
   ]
  }
 ],
 "metadata": {
  "kernelspec": {
   "display_name": "R",
   "language": "R",
   "name": "ir"
  },
  "language_info": {
   "codemirror_mode": "r",
   "file_extension": ".r",
   "mimetype": "text/x-r-source",
   "name": "R",
   "pygments_lexer": "r",
   "version": "4.3.1"
  }
 },
 "nbformat": 4,
 "nbformat_minor": 2
}
